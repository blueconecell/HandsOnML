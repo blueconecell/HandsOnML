{
  "cells": [
    {
      "cell_type": "markdown",
      "metadata": {
        "id": "Fck1w2wZFnjm"
      },
      "source": [
        "# 데이터 전처리"
      ]
    },
    {
      "cell_type": "markdown",
      "metadata": {
        "id": "yhbLxuHGFvSf"
      },
      "source": [
        "## 1. 표준화 또는 평균 제거와 분산 스케일링"
      ]
    },
    {
      "attachments": {},
      "cell_type": "markdown",
      "metadata": {},
      "source": [
        "표준화는 많은 머신러닝 추정기에서 보통 필요로 한다. \n",
        "\n",
        "전처리 모듈은 array같은 데이터셋에 연산을 빠르게 수행하는 StandardScaler 유틸리티 클래스를 제공한다."
      ]
    },
    {
      "cell_type": "code",
      "execution_count": 2,
      "metadata": {
        "id": "Hn_bIwcOzmWe"
      },
      "outputs": [],
      "source": [
        "from sklearn import preprocessing\n",
        "import numpy as np\n",
        "X_train = np.array([[ 1., -1.,  2.],\n",
        "                    [ 2.,  0.,  0.],\n",
        "                    [ 0.,  1., -1.]])"
      ]
    },
    {
      "cell_type": "code",
      "execution_count": 3,
      "metadata": {
        "colab": {
          "base_uri": "https://localhost:8080/"
        },
        "id": "Q03LiMd3AGaI",
        "outputId": "474c952d-38fd-40b4-c215-59a59111f409"
      },
      "outputs": [
        {
          "data": {
            "text/html": [
              "<style>#sk-container-id-1 {color: black;background-color: white;}#sk-container-id-1 pre{padding: 0;}#sk-container-id-1 div.sk-toggleable {background-color: white;}#sk-container-id-1 label.sk-toggleable__label {cursor: pointer;display: block;width: 100%;margin-bottom: 0;padding: 0.3em;box-sizing: border-box;text-align: center;}#sk-container-id-1 label.sk-toggleable__label-arrow:before {content: \"▸\";float: left;margin-right: 0.25em;color: #696969;}#sk-container-id-1 label.sk-toggleable__label-arrow:hover:before {color: black;}#sk-container-id-1 div.sk-estimator:hover label.sk-toggleable__label-arrow:before {color: black;}#sk-container-id-1 div.sk-toggleable__content {max-height: 0;max-width: 0;overflow: hidden;text-align: left;background-color: #f0f8ff;}#sk-container-id-1 div.sk-toggleable__content pre {margin: 0.2em;color: black;border-radius: 0.25em;background-color: #f0f8ff;}#sk-container-id-1 input.sk-toggleable__control:checked~div.sk-toggleable__content {max-height: 200px;max-width: 100%;overflow: auto;}#sk-container-id-1 input.sk-toggleable__control:checked~label.sk-toggleable__label-arrow:before {content: \"▾\";}#sk-container-id-1 div.sk-estimator input.sk-toggleable__control:checked~label.sk-toggleable__label {background-color: #d4ebff;}#sk-container-id-1 div.sk-label input.sk-toggleable__control:checked~label.sk-toggleable__label {background-color: #d4ebff;}#sk-container-id-1 input.sk-hidden--visually {border: 0;clip: rect(1px 1px 1px 1px);clip: rect(1px, 1px, 1px, 1px);height: 1px;margin: -1px;overflow: hidden;padding: 0;position: absolute;width: 1px;}#sk-container-id-1 div.sk-estimator {font-family: monospace;background-color: #f0f8ff;border: 1px dotted black;border-radius: 0.25em;box-sizing: border-box;margin-bottom: 0.5em;}#sk-container-id-1 div.sk-estimator:hover {background-color: #d4ebff;}#sk-container-id-1 div.sk-parallel-item::after {content: \"\";width: 100%;border-bottom: 1px solid gray;flex-grow: 1;}#sk-container-id-1 div.sk-label:hover label.sk-toggleable__label {background-color: #d4ebff;}#sk-container-id-1 div.sk-serial::before {content: \"\";position: absolute;border-left: 1px solid gray;box-sizing: border-box;top: 0;bottom: 0;left: 50%;z-index: 0;}#sk-container-id-1 div.sk-serial {display: flex;flex-direction: column;align-items: center;background-color: white;padding-right: 0.2em;padding-left: 0.2em;position: relative;}#sk-container-id-1 div.sk-item {position: relative;z-index: 1;}#sk-container-id-1 div.sk-parallel {display: flex;align-items: stretch;justify-content: center;background-color: white;position: relative;}#sk-container-id-1 div.sk-item::before, #sk-container-id-1 div.sk-parallel-item::before {content: \"\";position: absolute;border-left: 1px solid gray;box-sizing: border-box;top: 0;bottom: 0;left: 50%;z-index: -1;}#sk-container-id-1 div.sk-parallel-item {display: flex;flex-direction: column;z-index: 1;position: relative;background-color: white;}#sk-container-id-1 div.sk-parallel-item:first-child::after {align-self: flex-end;width: 50%;}#sk-container-id-1 div.sk-parallel-item:last-child::after {align-self: flex-start;width: 50%;}#sk-container-id-1 div.sk-parallel-item:only-child::after {width: 0;}#sk-container-id-1 div.sk-dashed-wrapped {border: 1px dashed gray;margin: 0 0.4em 0.5em 0.4em;box-sizing: border-box;padding-bottom: 0.4em;background-color: white;}#sk-container-id-1 div.sk-label label {font-family: monospace;font-weight: bold;display: inline-block;line-height: 1.2em;}#sk-container-id-1 div.sk-label-container {text-align: center;}#sk-container-id-1 div.sk-container {/* jupyter's `normalize.less` sets `[hidden] { display: none; }` but bootstrap.min.css set `[hidden] { display: none !important; }` so we also need the `!important` here to be able to override the default hidden behavior on the sphinx rendered scikit-learn.org. See: https://github.com/scikit-learn/scikit-learn/issues/21755 */display: inline-block !important;position: relative;}#sk-container-id-1 div.sk-text-repr-fallback {display: none;}</style><div id=\"sk-container-id-1\" class=\"sk-top-container\"><div class=\"sk-text-repr-fallback\"><pre>StandardScaler()</pre><b>In a Jupyter environment, please rerun this cell to show the HTML representation or trust the notebook. <br />On GitHub, the HTML representation is unable to render, please try loading this page with nbviewer.org.</b></div><div class=\"sk-container\" hidden><div class=\"sk-item\"><div class=\"sk-estimator sk-toggleable\"><input class=\"sk-toggleable__control sk-hidden--visually\" id=\"sk-estimator-id-1\" type=\"checkbox\" checked><label for=\"sk-estimator-id-1\" class=\"sk-toggleable__label sk-toggleable__label-arrow\">StandardScaler</label><div class=\"sk-toggleable__content\"><pre>StandardScaler()</pre></div></div></div></div></div>"
            ],
            "text/plain": [
              "StandardScaler()"
            ]
          },
          "execution_count": 3,
          "metadata": {},
          "output_type": "execute_result"
        }
      ],
      "source": [
        "scaler = preprocessing.StandardScaler().fit(X_train)\n",
        "scaler"
      ]
    },
    {
      "cell_type": "code",
      "execution_count": 4,
      "metadata": {
        "colab": {
          "base_uri": "https://localhost:8080/"
        },
        "id": "88y8ZNlzAiVW",
        "outputId": "a0629326-9293-4f2d-b29c-42fa238cc623"
      },
      "outputs": [
        {
          "data": {
            "text/plain": [
              "array([1.        , 0.        , 0.33333333])"
            ]
          },
          "execution_count": 4,
          "metadata": {},
          "output_type": "execute_result"
        }
      ],
      "source": [
        "scaler.mean_"
      ]
    },
    {
      "cell_type": "code",
      "execution_count": 5,
      "metadata": {
        "colab": {
          "base_uri": "https://localhost:8080/"
        },
        "id": "ZC507VkyAjtQ",
        "outputId": "2cf60dfc-4eee-4115-f002-201519e6e90e"
      },
      "outputs": [
        {
          "data": {
            "text/plain": [
              "array([0.81649658, 0.81649658, 1.24721913])"
            ]
          },
          "execution_count": 5,
          "metadata": {},
          "output_type": "execute_result"
        }
      ],
      "source": [
        "scaler.scale_"
      ]
    },
    {
      "cell_type": "code",
      "execution_count": 6,
      "metadata": {
        "colab": {
          "base_uri": "https://localhost:8080/"
        },
        "id": "WVroy1gmAlCV",
        "outputId": "9b1edee9-419c-4daa-a42a-1d72fb162be7"
      },
      "outputs": [
        {
          "data": {
            "text/plain": [
              "array([[ 0.        , -1.22474487,  1.33630621],\n",
              "       [ 1.22474487,  0.        , -0.26726124],\n",
              "       [-1.22474487,  1.22474487, -1.06904497]])"
            ]
          },
          "execution_count": 6,
          "metadata": {},
          "output_type": "execute_result"
        }
      ],
      "source": [
        "X_scaled = scaler.transform(X_train)\n",
        "X_scaled"
      ]
    },
    {
      "cell_type": "code",
      "execution_count": 7,
      "metadata": {
        "colab": {
          "base_uri": "https://localhost:8080/"
        },
        "id": "ls-GH0xcAokj",
        "outputId": "805ba6ff-549b-4d0f-eb7e-35a11a8e8eb6"
      },
      "outputs": [
        {
          "data": {
            "text/plain": [
              "array([0., 0., 0.])"
            ]
          },
          "execution_count": 7,
          "metadata": {},
          "output_type": "execute_result"
        }
      ],
      "source": [
        "X_scaled.mean(axis=0)"
      ]
    },
    {
      "cell_type": "code",
      "execution_count": 8,
      "metadata": {
        "colab": {
          "base_uri": "https://localhost:8080/"
        },
        "id": "nTwD_Og0EWva",
        "outputId": "9dd1b50a-ef38-4fde-b39f-c93bf7eb2db9"
      },
      "outputs": [
        {
          "data": {
            "text/plain": [
              "array([1., 1., 1.])"
            ]
          },
          "execution_count": 8,
          "metadata": {},
          "output_type": "execute_result"
        }
      ],
      "source": [
        "X_scaled.std(axis=0)"
      ]
    },
    {
      "attachments": {},
      "cell_type": "markdown",
      "metadata": {},
      "source": [
        "이 클래스는 Transformer API를 구현하여 학습 세트에서 평균과 표준 편차를 계산하여 나중에 테스트 세트에서 동일한 변환을 다시 적용할 수 있도록 한다.\n",
        "\n",
        "파이프라인 초기 단계에서 사용하기 적합니다."
      ]
    },
    {
      "cell_type": "code",
      "execution_count": 9,
      "metadata": {
        "colab": {
          "base_uri": "https://localhost:8080/"
        },
        "id": "gC_G0QueEX0I",
        "outputId": "4627e60f-2362-4e44-d8a2-17c95d3a08e0"
      },
      "outputs": [
        {
          "data": {
            "text/html": [
              "<style>#sk-container-id-2 {color: black;background-color: white;}#sk-container-id-2 pre{padding: 0;}#sk-container-id-2 div.sk-toggleable {background-color: white;}#sk-container-id-2 label.sk-toggleable__label {cursor: pointer;display: block;width: 100%;margin-bottom: 0;padding: 0.3em;box-sizing: border-box;text-align: center;}#sk-container-id-2 label.sk-toggleable__label-arrow:before {content: \"▸\";float: left;margin-right: 0.25em;color: #696969;}#sk-container-id-2 label.sk-toggleable__label-arrow:hover:before {color: black;}#sk-container-id-2 div.sk-estimator:hover label.sk-toggleable__label-arrow:before {color: black;}#sk-container-id-2 div.sk-toggleable__content {max-height: 0;max-width: 0;overflow: hidden;text-align: left;background-color: #f0f8ff;}#sk-container-id-2 div.sk-toggleable__content pre {margin: 0.2em;color: black;border-radius: 0.25em;background-color: #f0f8ff;}#sk-container-id-2 input.sk-toggleable__control:checked~div.sk-toggleable__content {max-height: 200px;max-width: 100%;overflow: auto;}#sk-container-id-2 input.sk-toggleable__control:checked~label.sk-toggleable__label-arrow:before {content: \"▾\";}#sk-container-id-2 div.sk-estimator input.sk-toggleable__control:checked~label.sk-toggleable__label {background-color: #d4ebff;}#sk-container-id-2 div.sk-label input.sk-toggleable__control:checked~label.sk-toggleable__label {background-color: #d4ebff;}#sk-container-id-2 input.sk-hidden--visually {border: 0;clip: rect(1px 1px 1px 1px);clip: rect(1px, 1px, 1px, 1px);height: 1px;margin: -1px;overflow: hidden;padding: 0;position: absolute;width: 1px;}#sk-container-id-2 div.sk-estimator {font-family: monospace;background-color: #f0f8ff;border: 1px dotted black;border-radius: 0.25em;box-sizing: border-box;margin-bottom: 0.5em;}#sk-container-id-2 div.sk-estimator:hover {background-color: #d4ebff;}#sk-container-id-2 div.sk-parallel-item::after {content: \"\";width: 100%;border-bottom: 1px solid gray;flex-grow: 1;}#sk-container-id-2 div.sk-label:hover label.sk-toggleable__label {background-color: #d4ebff;}#sk-container-id-2 div.sk-serial::before {content: \"\";position: absolute;border-left: 1px solid gray;box-sizing: border-box;top: 0;bottom: 0;left: 50%;z-index: 0;}#sk-container-id-2 div.sk-serial {display: flex;flex-direction: column;align-items: center;background-color: white;padding-right: 0.2em;padding-left: 0.2em;position: relative;}#sk-container-id-2 div.sk-item {position: relative;z-index: 1;}#sk-container-id-2 div.sk-parallel {display: flex;align-items: stretch;justify-content: center;background-color: white;position: relative;}#sk-container-id-2 div.sk-item::before, #sk-container-id-2 div.sk-parallel-item::before {content: \"\";position: absolute;border-left: 1px solid gray;box-sizing: border-box;top: 0;bottom: 0;left: 50%;z-index: -1;}#sk-container-id-2 div.sk-parallel-item {display: flex;flex-direction: column;z-index: 1;position: relative;background-color: white;}#sk-container-id-2 div.sk-parallel-item:first-child::after {align-self: flex-end;width: 50%;}#sk-container-id-2 div.sk-parallel-item:last-child::after {align-self: flex-start;width: 50%;}#sk-container-id-2 div.sk-parallel-item:only-child::after {width: 0;}#sk-container-id-2 div.sk-dashed-wrapped {border: 1px dashed gray;margin: 0 0.4em 0.5em 0.4em;box-sizing: border-box;padding-bottom: 0.4em;background-color: white;}#sk-container-id-2 div.sk-label label {font-family: monospace;font-weight: bold;display: inline-block;line-height: 1.2em;}#sk-container-id-2 div.sk-label-container {text-align: center;}#sk-container-id-2 div.sk-container {/* jupyter's `normalize.less` sets `[hidden] { display: none; }` but bootstrap.min.css set `[hidden] { display: none !important; }` so we also need the `!important` here to be able to override the default hidden behavior on the sphinx rendered scikit-learn.org. See: https://github.com/scikit-learn/scikit-learn/issues/21755 */display: inline-block !important;position: relative;}#sk-container-id-2 div.sk-text-repr-fallback {display: none;}</style><div id=\"sk-container-id-2\" class=\"sk-top-container\"><div class=\"sk-text-repr-fallback\"><pre>Pipeline(steps=[(&#x27;standardscaler&#x27;, StandardScaler()),\n",
              "                (&#x27;logisticregression&#x27;, LogisticRegression())])</pre><b>In a Jupyter environment, please rerun this cell to show the HTML representation or trust the notebook. <br />On GitHub, the HTML representation is unable to render, please try loading this page with nbviewer.org.</b></div><div class=\"sk-container\" hidden><div class=\"sk-item sk-dashed-wrapped\"><div class=\"sk-label-container\"><div class=\"sk-label sk-toggleable\"><input class=\"sk-toggleable__control sk-hidden--visually\" id=\"sk-estimator-id-2\" type=\"checkbox\" ><label for=\"sk-estimator-id-2\" class=\"sk-toggleable__label sk-toggleable__label-arrow\">Pipeline</label><div class=\"sk-toggleable__content\"><pre>Pipeline(steps=[(&#x27;standardscaler&#x27;, StandardScaler()),\n",
              "                (&#x27;logisticregression&#x27;, LogisticRegression())])</pre></div></div></div><div class=\"sk-serial\"><div class=\"sk-item\"><div class=\"sk-estimator sk-toggleable\"><input class=\"sk-toggleable__control sk-hidden--visually\" id=\"sk-estimator-id-3\" type=\"checkbox\" ><label for=\"sk-estimator-id-3\" class=\"sk-toggleable__label sk-toggleable__label-arrow\">StandardScaler</label><div class=\"sk-toggleable__content\"><pre>StandardScaler()</pre></div></div></div><div class=\"sk-item\"><div class=\"sk-estimator sk-toggleable\"><input class=\"sk-toggleable__control sk-hidden--visually\" id=\"sk-estimator-id-4\" type=\"checkbox\" ><label for=\"sk-estimator-id-4\" class=\"sk-toggleable__label sk-toggleable__label-arrow\">LogisticRegression</label><div class=\"sk-toggleable__content\"><pre>LogisticRegression()</pre></div></div></div></div></div></div></div>"
            ],
            "text/plain": [
              "Pipeline(steps=[('standardscaler', StandardScaler()),\n",
              "                ('logisticregression', LogisticRegression())])"
            ]
          },
          "execution_count": 9,
          "metadata": {},
          "output_type": "execute_result"
        }
      ],
      "source": [
        "from sklearn.datasets import make_classification\n",
        "from sklearn.linear_model import LogisticRegression\n",
        "from sklearn.model_selection import train_test_split\n",
        "from sklearn.pipeline import make_pipeline\n",
        "from sklearn.preprocessing import StandardScaler\n",
        "\n",
        "X, y = make_classification(random_state=42)\n",
        "X_train, X_test, y_train, y_test = train_test_split(X, y, random_state=42)\n",
        "pipe = make_pipeline(StandardScaler(), LogisticRegression())\n",
        "pipe.fit(X_train, y_train)  # apply scaling on training data"
      ]
    },
    {
      "cell_type": "code",
      "execution_count": 10,
      "metadata": {
        "colab": {
          "base_uri": "https://localhost:8080/"
        },
        "id": "RMi3dbJdEbFz",
        "outputId": "1d481635-4e94-4c07-91e1-7da3897fff61"
      },
      "outputs": [
        {
          "data": {
            "text/plain": [
              "0.96"
            ]
          },
          "execution_count": 10,
          "metadata": {},
          "output_type": "execute_result"
        }
      ],
      "source": [
        "pipe.score(X_test, y_test)  # apply scaling on testing data, without leaking training data."
      ]
    },
    {
      "attachments": {},
      "cell_type": "markdown",
      "metadata": {},
      "source": [
        "## 1.1 특징 값을 범위 내로 스케일링하기\n",
        "\n",
        "특정 최소 ~ 최대값 범위 내로 특징 값을 스케일링하는 표준화 방법이 일반적이다.\n",
        "\n",
        "이 스케일링을 사용하는 이유는 특징의 매우 작은 표준편차에 대해 데이터에서 0개의 항목을 보존한다."
      ]
    },
    {
      "cell_type": "code",
      "execution_count": 11,
      "metadata": {
        "colab": {
          "base_uri": "https://localhost:8080/"
        },
        "id": "_Vi3rZFLEcph",
        "outputId": "8ee8179a-47d3-48fa-e5e9-d37a15581907"
      },
      "outputs": [
        {
          "data": {
            "text/plain": [
              "array([[0.5       , 0.        , 1.        ],\n",
              "       [1.        , 0.5       , 0.33333333],\n",
              "       [0.        , 1.        , 0.        ]])"
            ]
          },
          "execution_count": 11,
          "metadata": {},
          "output_type": "execute_result"
        }
      ],
      "source": [
        "X_train = np.array([[ 1., -1.,  2.],\n",
        "                    [ 2.,  0.,  0.],\n",
        "                    [ 0.,  1., -1.]])\n",
        "\n",
        "min_max_scaler = preprocessing.MinMaxScaler()\n",
        "X_train_minmax = min_max_scaler.fit_transform(X_train)\n",
        "X_train_minmax"
      ]
    },
    {
      "attachments": {},
      "cell_type": "markdown",
      "metadata": {},
      "source": [
        "동일한 변환기의 인스턴스는 학습과정에 없었던 새로운 테스트 데이터에도 적용될 수 있다.\n"
      ]
    },
    {
      "cell_type": "code",
      "execution_count": 12,
      "metadata": {
        "colab": {
          "base_uri": "https://localhost:8080/"
        },
        "id": "9owJDwSlEwcQ",
        "outputId": "559eb19c-de75-4da1-de4b-eeb66526b0ad"
      },
      "outputs": [
        {
          "data": {
            "text/plain": [
              "array([[-1.5       ,  0.        ,  1.66666667]])"
            ]
          },
          "execution_count": 12,
          "metadata": {},
          "output_type": "execute_result"
        }
      ],
      "source": [
        "X_test = np.array([[-3., -1.,  4.]])\n",
        "X_test_minmax = min_max_scaler.transform(X_test)\n",
        "X_test_minmax"
      ]
    },
    {
      "cell_type": "code",
      "execution_count": 13,
      "metadata": {
        "colab": {
          "base_uri": "https://localhost:8080/"
        },
        "id": "cYOy9FxxF1Tb",
        "outputId": "a95d3166-ff7e-4a07-f0f6-77a2388c2067"
      },
      "outputs": [
        {
          "data": {
            "text/plain": [
              "array([0.5       , 0.5       , 0.33333333])"
            ]
          },
          "execution_count": 13,
          "metadata": {},
          "output_type": "execute_result"
        }
      ],
      "source": [
        "min_max_scaler.scale_"
      ]
    },
    {
      "cell_type": "code",
      "execution_count": 14,
      "metadata": {
        "colab": {
          "base_uri": "https://localhost:8080/"
        },
        "id": "k-0H2gx2F3V_",
        "outputId": "c0a798b0-8a55-4605-f3e5-e74f8b4df932"
      },
      "outputs": [
        {
          "data": {
            "text/plain": [
              "array([0.        , 0.5       , 0.33333333])"
            ]
          },
          "execution_count": 14,
          "metadata": {},
          "output_type": "execute_result"
        }
      ],
      "source": [
        "min_max_scaler.min_"
      ]
    },
    {
      "attachments": {},
      "cell_type": "markdown",
      "metadata": {},
      "source": [
        "MaxAbsScaler는 각 특성의 가장 큰 최댓값으로 나눠 학습 데이터가 [-1,1] 범위 내에 위치하도록 스케일을 조정한다.\n",
        "\n",
        "이는 이미 0을 중심으로 정렬된 데이터나 희소한 데이터에 적합하다."
      ]
    },
    {
      "cell_type": "code",
      "execution_count": 15,
      "metadata": {
        "colab": {
          "base_uri": "https://localhost:8080/"
        },
        "id": "GYne2_LXF6S2",
        "outputId": "9c17c637-5ee0-460c-8726-d136ce577131"
      },
      "outputs": [
        {
          "data": {
            "text/plain": [
              "array([[ 0.5, -1. ,  1. ],\n",
              "       [ 1. ,  0. ,  0. ],\n",
              "       [ 0. ,  1. , -0.5]])"
            ]
          },
          "execution_count": 15,
          "metadata": {},
          "output_type": "execute_result"
        }
      ],
      "source": [
        "X_train = np.array([[ 1., -1.,  2.],\n",
        "                    [ 2.,  0.,  0.],\n",
        "                    [ 0.,  1., -1.]])\n",
        "max_abs_scaler = preprocessing.MaxAbsScaler()\n",
        "X_train_maxabs = max_abs_scaler.fit_transform(X_train)\n",
        "X_train_maxabs"
      ]
    },
    {
      "cell_type": "code",
      "execution_count": 16,
      "metadata": {
        "colab": {
          "base_uri": "https://localhost:8080/"
        },
        "id": "kaoQBcpsF8Pl",
        "outputId": "9e212ef2-a3b4-4d9a-c2c7-e9a5867f9a76"
      },
      "outputs": [
        {
          "data": {
            "text/plain": [
              "array([[-1.5, -1. ,  2. ]])"
            ]
          },
          "execution_count": 16,
          "metadata": {},
          "output_type": "execute_result"
        }
      ],
      "source": [
        "X_test = np.array([[ -3., -1.,  4.]])\n",
        "X_test_maxabs = max_abs_scaler.transform(X_test)\n",
        "X_test_maxabs"
      ]
    },
    {
      "cell_type": "code",
      "execution_count": 17,
      "metadata": {
        "colab": {
          "base_uri": "https://localhost:8080/"
        },
        "id": "FHfR1aPSF-sH",
        "outputId": "3b6ece48-0d55-480c-bb13-93fb9d398c0c"
      },
      "outputs": [
        {
          "data": {
            "text/plain": [
              "array([2., 1., 2.])"
            ]
          },
          "execution_count": 17,
          "metadata": {},
          "output_type": "execute_result"
        }
      ],
      "source": [
        "max_abs_scaler.scale_"
      ]
    },
    {
      "attachments": {},
      "cell_type": "markdown",
      "metadata": {},
      "source": [
        "MinMaxScaler와 MaxAbsScaler는 입력 데이터의 특성 값을 고정된 범위로 저정하여 데이터의 스케일을 조정하는데 이 두 스케일러는 모두 수치형 데이터에서 잘 작동한다.\n",
        "\n",
        "데이터가 이미 중심화되어 있거나 희소 데이터일 경우, MaxAbsScaler를 사용하여 스케일링하는 것이 좋지만, StandardScaler는 Wirh_mean=False를 지정하여 constructor에 전달하면 scipysparse희소행렬도 입력으로 사용할 수 있다.\n",
        "\n",
        "데이터에 이상치가 많은 경우, 데이터의 평균과 분산을 사용하여 스케일링하는 것이 잘 작동하지 않을 수 있다. 이 경우 RobustScaler를 사용하여 중심화와 범위의 보다 견고한 추정치를 사용할 수 있다.\n",
        "\n",
        "특성간 선형 상관관계를 제거하기 위해 PCA를 사용하여 데이터를 화이트닝할 수 있습니다. 이를 통해 다운스트림 모델에서 특성 간의 선형 독립성을 가정할 수 있다."
      ]
    },
    {
      "cell_type": "markdown",
      "metadata": {
        "id": "gdv-OV0xGTYw"
      },
      "source": [
        "## 2. 비선형 변환"
      ]
    },
    {
      "attachments": {},
      "cell_type": "markdown",
      "metadata": {},
      "source": [
        "스케일링이 아닌 다른 종류의 변환인 quantile transforms power transforms를 한다.\n",
        "\n",
        "두개 모두 단조변환을 기반으로 하므로 각 특성의 값의 순위를 보존한다.\n",
        "\n",
        "power transform는 모든 분포에서 데이터를 가우시안 분포에 가깝게 매핑하도록 설계되어 데이터의 정규성을 향상시키는데 사용할 수 있다."
      ]
    },
    {
      "cell_type": "code",
      "execution_count": 18,
      "metadata": {
        "colab": {
          "base_uri": "https://localhost:8080/"
        },
        "id": "F31BryAhF_mG",
        "outputId": "9184f716-fb51-4188-b0dc-9e0da43162f9"
      },
      "outputs": [
        {
          "name": "stderr",
          "output_type": "stream",
          "text": [
            "C:\\Users\\kimjeongyeon\\AppData\\Local\\Packages\\PythonSoftwareFoundation.Python.3.10_qbz5n2kfra8p0\\LocalCache\\local-packages\\Python310\\site-packages\\sklearn\\preprocessing\\_data.py:2627: UserWarning: n_quantiles (1000) is greater than the total number of samples (112). n_quantiles is set to n_samples.\n",
            "  warnings.warn(\n"
          ]
        },
        {
          "data": {
            "text/plain": [
              "array([4.3, 5.1, 5.8, 6.5, 7.9])"
            ]
          },
          "execution_count": 18,
          "metadata": {},
          "output_type": "execute_result"
        }
      ],
      "source": [
        "from sklearn.datasets import load_iris\n",
        "from sklearn.model_selection import train_test_split\n",
        "X, y = load_iris(return_X_y=True)\n",
        "X_train, X_test, y_train, y_test = train_test_split(X, y, random_state=0)\n",
        "quantile_transformer = preprocessing.QuantileTransformer(random_state=0)\n",
        "X_train_trans = quantile_transformer.fit_transform(X_train)\n",
        "X_test_trans = quantile_transformer.transform(X_test)\n",
        "np.percentile(X_train[:, 0], [0, 25, 50, 75, 100]) "
      ]
    },
    {
      "cell_type": "code",
      "execution_count": 19,
      "metadata": {
        "colab": {
          "base_uri": "https://localhost:8080/"
        },
        "id": "vAUGBW73Ga-c",
        "outputId": "a89b15ea-0bc0-4fba-eccc-25f851be1a65"
      },
      "outputs": [
        {
          "data": {
            "text/plain": [
              "array([0.        , 0.23873874, 0.50900901, 0.74324324, 1.        ])"
            ]
          },
          "execution_count": 19,
          "metadata": {},
          "output_type": "execute_result"
        }
      ],
      "source": [
        "np.percentile(X_train_trans[:, 0], [0, 25, 50, 75, 100])"
      ]
    },
    {
      "cell_type": "code",
      "execution_count": 20,
      "metadata": {
        "colab": {
          "base_uri": "https://localhost:8080/"
        },
        "id": "WDMSqN4VGcLJ",
        "outputId": "f7809198-12f9-4f6c-85c1-e4e37f6efccc"
      },
      "outputs": [
        {
          "data": {
            "text/plain": [
              "array([4.4  , 5.125, 5.75 , 6.175, 7.3  ])"
            ]
          },
          "execution_count": 20,
          "metadata": {},
          "output_type": "execute_result"
        }
      ],
      "source": [
        "np.percentile(X_test[:, 0], [0, 25, 50, 75, 100])"
      ]
    },
    {
      "cell_type": "code",
      "execution_count": 21,
      "metadata": {
        "colab": {
          "base_uri": "https://localhost:8080/"
        },
        "id": "cCgrrcj7Ge3k",
        "outputId": "ade970ac-e679-4e7e-e03e-ff810cb3fa4c"
      },
      "outputs": [
        {
          "data": {
            "text/plain": [
              "array([0.01351351, 0.25      , 0.47747748, 0.60472973, 0.94144144])"
            ]
          },
          "execution_count": 21,
          "metadata": {},
          "output_type": "execute_result"
        }
      ],
      "source": [
        "np.percentile(X_test_trans[:, 0], [0, 25, 50, 75, 100])"
      ]
    },
    {
      "attachments": {},
      "cell_type": "markdown",
      "metadata": {},
      "source": [
        "모델링 시나리오에서 데이터셋의 특성이 정규성을 가질 수 있도록 하는 것이 바람직한 경우에 대해 다룬다.\n",
        "\n",
        "Power transform은 모든 분포에서 데이터를 가우시안 분포를 가깝게 매핑하도록 설계된 매개변수적, 단조 변환이다.\n",
        "\n",
        "이를 통해 분산을 안정화하고 skewness를 최소화할 수 있다.\n",
        "\n",
        "box-cox 변환은 양수 데이터에만 적용할 수 있다."
      ]
    },
    {
      "cell_type": "code",
      "execution_count": 22,
      "metadata": {
        "colab": {
          "base_uri": "https://localhost:8080/"
        },
        "id": "adb6TyijGf4l",
        "outputId": "8b606100-f460-4ca0-fdfb-3dc75b6247d0"
      },
      "outputs": [
        {
          "data": {
            "text/plain": [
              "array([[1.28331718, 1.18092228, 0.84160269],\n",
              "       [0.94293279, 1.60960836, 0.3879099 ],\n",
              "       [1.35235668, 0.21715673, 1.09977091]])"
            ]
          },
          "execution_count": 22,
          "metadata": {},
          "output_type": "execute_result"
        }
      ],
      "source": [
        "pt = preprocessing.PowerTransformer(method='box-cox', standardize=False)\n",
        "X_lognormal = np.random.RandomState(616).lognormal(size=(3, 3))\n",
        "X_lognormal"
      ]
    },
    {
      "cell_type": "code",
      "execution_count": 23,
      "metadata": {
        "colab": {
          "base_uri": "https://localhost:8080/"
        },
        "id": "N5hQk44SGila",
        "outputId": "dade4c92-4d9f-42b3-d9b5-c28dd52abef9"
      },
      "outputs": [
        {
          "data": {
            "text/plain": [
              "array([[ 0.49024349,  0.17881995, -0.1563781 ],\n",
              "       [-0.05102892,  0.58863195, -0.57612414],\n",
              "       [ 0.69420009, -0.84857822,  0.10051454]])"
            ]
          },
          "execution_count": 23,
          "metadata": {},
          "output_type": "execute_result"
        }
      ],
      "source": [
        "pt.fit_transform(X_lognormal)"
      ]
    },
    {
      "attachments": {},
      "cell_type": "markdown",
      "metadata": {},
      "source": [
        "power transforms는 가우시안 같은 결과를 도출해네지만 비효율적이다."
      ]
    },
    {
      "cell_type": "code",
      "execution_count": 24,
      "metadata": {
        "colab": {
          "base_uri": "https://localhost:8080/"
        },
        "id": "BrvhGRhIGjtD",
        "outputId": "d223c36d-bd28-4fe2-f96c-4a78f8f539aa"
      },
      "outputs": [
        {
          "name": "stderr",
          "output_type": "stream",
          "text": [
            "C:\\Users\\kimjeongyeon\\AppData\\Local\\Packages\\PythonSoftwareFoundation.Python.3.10_qbz5n2kfra8p0\\LocalCache\\local-packages\\Python310\\site-packages\\sklearn\\preprocessing\\_data.py:2627: UserWarning: n_quantiles (1000) is greater than the total number of samples (150). n_quantiles is set to n_samples.\n",
            "  warnings.warn(\n"
          ]
        },
        {
          "data": {
            "text/plain": [
              "array([[4.3, 2. , 1. , 0.1],\n",
              "       [4.4, 2.2, 1.1, 0.1],\n",
              "       [4.4, 2.2, 1.2, 0.1],\n",
              "       [4.4, 2.2, 1.2, 0.1],\n",
              "       [4.5, 2.3, 1.3, 0.1],\n",
              "       [4.6, 2.3, 1.3, 0.2],\n",
              "       [4.6, 2.3, 1.3, 0.2],\n",
              "       [4.6, 2.3, 1.3, 0.2],\n",
              "       [4.6, 2.4, 1.3, 0.2],\n",
              "       [4.7, 2.4, 1.3, 0.2],\n",
              "       [4.7, 2.4, 1.3, 0.2],\n",
              "       [4.8, 2.5, 1.4, 0.2],\n",
              "       [4.8, 2.5, 1.4, 0.2],\n",
              "       [4.8, 2.5, 1.4, 0.2],\n",
              "       [4.8, 2.5, 1.4, 0.2],\n",
              "       [4.8, 2.5, 1.4, 0.2],\n",
              "       [4.9, 2.5, 1.4, 0.2],\n",
              "       [4.9, 2.5, 1.4, 0.2],\n",
              "       [4.9, 2.5, 1.4, 0.2],\n",
              "       [4.9, 2.6, 1.4, 0.2],\n",
              "       [4.9, 2.6, 1.4, 0.2],\n",
              "       [4.9, 2.6, 1.4, 0.2],\n",
              "       [5. , 2.6, 1.4, 0.2],\n",
              "       [5. , 2.6, 1.4, 0.2],\n",
              "       [5. , 2.7, 1.5, 0.2],\n",
              "       [5. , 2.7, 1.5, 0.2],\n",
              "       [5. , 2.7, 1.5, 0.2],\n",
              "       [5. , 2.7, 1.5, 0.2],\n",
              "       [5. , 2.7, 1.5, 0.2],\n",
              "       [5. , 2.7, 1.5, 0.2],\n",
              "       [5. , 2.7, 1.5, 0.2],\n",
              "       [5. , 2.7, 1.5, 0.2],\n",
              "       [5.1, 2.7, 1.5, 0.2],\n",
              "       [5.1, 2.8, 1.5, 0.2],\n",
              "       [5.1, 2.8, 1.5, 0.3],\n",
              "       [5.1, 2.8, 1.5, 0.3],\n",
              "       [5.1, 2.8, 1.5, 0.3],\n",
              "       [5.1, 2.8, 1.6, 0.3],\n",
              "       [5.1, 2.8, 1.6, 0.3],\n",
              "       [5.1, 2.8, 1.6, 0.3],\n",
              "       [5.1, 2.8, 1.6, 0.3],\n",
              "       [5.2, 2.8, 1.6, 0.4],\n",
              "       [5.2, 2.8, 1.6, 0.4],\n",
              "       [5.2, 2.8, 1.6, 0.4],\n",
              "       [5.2, 2.8, 1.7, 0.4],\n",
              "       [5.3, 2.8, 1.7, 0.4],\n",
              "       [5.4, 2.8, 1.7, 0.4],\n",
              "       [5.4, 2.9, 1.7, 0.4],\n",
              "       [5.4, 2.9, 1.9, 0.5],\n",
              "       [5.4, 2.9, 1.9, 0.6],\n",
              "       [5.4, 2.9, 3. , 1. ],\n",
              "       [5.4, 2.9, 3.3, 1. ],\n",
              "       [5.5, 2.9, 3.3, 1. ],\n",
              "       [5.5, 2.9, 3.5, 1. ],\n",
              "       [5.5, 2.9, 3.5, 1. ],\n",
              "       [5.5, 2.9, 3.6, 1. ],\n",
              "       [5.5, 2.9, 3.7, 1. ],\n",
              "       [5.5, 3. , 3.8, 1.1],\n",
              "       [5.5, 3. , 3.9, 1.1],\n",
              "       [5.6, 3. , 3.9, 1.1],\n",
              "       [5.6, 3. , 3.9, 1.2],\n",
              "       [5.6, 3. , 4. , 1.2],\n",
              "       [5.6, 3. , 4. , 1.2],\n",
              "       [5.6, 3. , 4. , 1.2],\n",
              "       [5.6, 3. , 4. , 1.2],\n",
              "       [5.7, 3. , 4. , 1.3],\n",
              "       [5.7, 3. , 4.1, 1.3],\n",
              "       [5.7, 3. , 4.1, 1.3],\n",
              "       [5.7, 3. , 4.1, 1.3],\n",
              "       [5.7, 3. , 4.2, 1.3],\n",
              "       [5.7, 3. , 4.2, 1.3],\n",
              "       [5.7, 3. , 4.2, 1.3],\n",
              "       [5.7, 3. , 4.2, 1.3],\n",
              "       [5.8, 3. , 4.3, 1.3],\n",
              "       [5.8, 3. , 4.3, 1.3],\n",
              "       [5.8, 3. , 4.4, 1.3],\n",
              "       [5.8, 3. , 4.4, 1.3],\n",
              "       [5.8, 3. , 4.4, 1.3],\n",
              "       [5.8, 3. , 4.4, 1.4],\n",
              "       [5.8, 3. , 4.5, 1.4],\n",
              "       [5.9, 3. , 4.5, 1.4],\n",
              "       [5.9, 3. , 4.5, 1.4],\n",
              "       [5.9, 3. , 4.5, 1.4],\n",
              "       [6. , 3.1, 4.5, 1.4],\n",
              "       [6. , 3.1, 4.5, 1.4],\n",
              "       [6. , 3.1, 4.5, 1.4],\n",
              "       [6. , 3.1, 4.5, 1.5],\n",
              "       [6. , 3.1, 4.6, 1.5],\n",
              "       [6. , 3.1, 4.6, 1.5],\n",
              "       [6.1, 3.1, 4.6, 1.5],\n",
              "       [6.1, 3.1, 4.7, 1.5],\n",
              "       [6.1, 3.1, 4.7, 1.5],\n",
              "       [6.1, 3.1, 4.7, 1.5],\n",
              "       [6.1, 3.1, 4.7, 1.5],\n",
              "       [6.1, 3.2, 4.7, 1.5],\n",
              "       [6.2, 3.2, 4.8, 1.5],\n",
              "       [6.2, 3.2, 4.8, 1.5],\n",
              "       [6.2, 3.2, 4.8, 1.5],\n",
              "       [6.2, 3.2, 4.8, 1.6],\n",
              "       [6.3, 3.2, 4.9, 1.6],\n",
              "       [6.3, 3.2, 4.9, 1.6],\n",
              "       [6.3, 3.2, 4.9, 1.6],\n",
              "       [6.3, 3.2, 4.9, 1.7],\n",
              "       [6.3, 3.2, 4.9, 1.7],\n",
              "       [6.3, 3.2, 5. , 1.8],\n",
              "       [6.3, 3.2, 5. , 1.8],\n",
              "       [6.3, 3.2, 5. , 1.8],\n",
              "       [6.3, 3.3, 5. , 1.8],\n",
              "       [6.4, 3.3, 5.1, 1.8],\n",
              "       [6.4, 3.3, 5.1, 1.8],\n",
              "       [6.4, 3.3, 5.1, 1.8],\n",
              "       [6.4, 3.3, 5.1, 1.8],\n",
              "       [6.4, 3.3, 5.1, 1.8],\n",
              "       [6.4, 3.4, 5.1, 1.8],\n",
              "       [6.4, 3.4, 5.1, 1.8],\n",
              "       [6.5, 3.4, 5.1, 1.8],\n",
              "       [6.5, 3.4, 5.2, 1.9],\n",
              "       [6.5, 3.4, 5.2, 1.9],\n",
              "       [6.5, 3.4, 5.3, 1.9],\n",
              "       [6.5, 3.4, 5.3, 1.9],\n",
              "       [6.6, 3.4, 5.4, 1.9],\n",
              "       [6.6, 3.4, 5.4, 2. ],\n",
              "       [6.7, 3.4, 5.5, 2. ],\n",
              "       [6.7, 3.4, 5.5, 2. ],\n",
              "       [6.7, 3.4, 5.5, 2. ],\n",
              "       [6.7, 3.5, 5.6, 2. ],\n",
              "       [6.7, 3.5, 5.6, 2. ],\n",
              "       [6.7, 3.5, 5.6, 2.1],\n",
              "       [6.7, 3.5, 5.6, 2.1],\n",
              "       [6.7, 3.5, 5.6, 2.1],\n",
              "       [6.8, 3.5, 5.6, 2.1],\n",
              "       [6.8, 3.6, 5.7, 2.1],\n",
              "       [6.8, 3.6, 5.7, 2.1],\n",
              "       [6.9, 3.6, 5.7, 2.2],\n",
              "       [6.9, 3.6, 5.8, 2.2],\n",
              "       [6.9, 3.7, 5.8, 2.2],\n",
              "       [6.9, 3.7, 5.8, 2.3],\n",
              "       [7. , 3.7, 5.9, 2.3],\n",
              "       [7.1, 3.8, 5.9, 2.3],\n",
              "       [7.2, 3.8, 6. , 2.3],\n",
              "       [7.2, 3.8, 6. , 2.3],\n",
              "       [7.2, 3.8, 6.1, 2.3],\n",
              "       [7.3, 3.8, 6.1, 2.3],\n",
              "       [7.4, 3.8, 6.1, 2.3],\n",
              "       [7.6, 3.9, 6.3, 2.4],\n",
              "       [7.7, 3.9, 6.4, 2.4],\n",
              "       [7.7, 4. , 6.6, 2.4],\n",
              "       [7.7, 4.1, 6.7, 2.5],\n",
              "       [7.7, 4.2, 6.7, 2.5],\n",
              "       [7.9, 4.4, 6.9, 2.5]])"
            ]
          },
          "execution_count": 24,
          "metadata": {},
          "output_type": "execute_result"
        }
      ],
      "source": [
        "quantile_transformer = preprocessing.QuantileTransformer(\n",
        "    output_distribution='normal', random_state=0)\n",
        "X_trans = quantile_transformer.fit_transform(X)\n",
        "quantile_transformer.quantiles_"
      ]
    },
    {
      "cell_type": "markdown",
      "metadata": {
        "id": "7A6Qc9XfGswo"
      },
      "source": [
        "## 3.정규화"
      ]
    },
    {
      "attachments": {},
      "cell_type": "markdown",
      "metadata": {},
      "source": [
        "정규화는 각 샘플을 단위 벡터norm으로 스케일링하는 과정이다. \n",
        "\n",
        "이 과정은 이차형식을 사용할 계획이라면 유용할 것이다.\n",
        "\n",
        "이 가정은 텍스트 분류 및 클러스터링 컨텍스트에서 자주 사용되는 벡터 공간모델의 기반을 두고 있다."
      ]
    },
    {
      "cell_type": "code",
      "execution_count": 25,
      "metadata": {
        "colab": {
          "base_uri": "https://localhost:8080/"
        },
        "id": "ojri-EmuGmWw",
        "outputId": "f374c66c-4d82-4f33-cdb4-be905658aa41"
      },
      "outputs": [
        {
          "data": {
            "text/plain": [
              "array([[ 0.40824829, -0.40824829,  0.81649658],\n",
              "       [ 1.        ,  0.        ,  0.        ],\n",
              "       [ 0.        ,  0.70710678, -0.70710678]])"
            ]
          },
          "execution_count": 25,
          "metadata": {},
          "output_type": "execute_result"
        }
      ],
      "source": [
        "X = [[ 1., -1.,  2.],\n",
        "     [ 2.,  0.,  0.],\n",
        "     [ 0.,  1., -1.]]\n",
        "X_normalized = preprocessing.normalize(X, norm='l2')\n",
        "X_normalized"
      ]
    },
    {
      "attachments": {},
      "cell_type": "markdown",
      "metadata": {},
      "source": [
        "\n",
        "전처리 모듈은 Normalizer라는 유틸리티 클래스를 제공하는데 transformer API를 사용해 같은 과정을 구현한다.\n",
        "\n",
        "이 클래스는 파이프라인 초기단계에서 사용하기 적합하다."
      ]
    },
    {
      "cell_type": "code",
      "execution_count": 26,
      "metadata": {
        "colab": {
          "base_uri": "https://localhost:8080/"
        },
        "id": "0s72WWSbGyd4",
        "outputId": "d0634166-4ed6-42c4-dc14-ec47bf65eaff"
      },
      "outputs": [
        {
          "data": {
            "text/html": [
              "<style>#sk-container-id-3 {color: black;background-color: white;}#sk-container-id-3 pre{padding: 0;}#sk-container-id-3 div.sk-toggleable {background-color: white;}#sk-container-id-3 label.sk-toggleable__label {cursor: pointer;display: block;width: 100%;margin-bottom: 0;padding: 0.3em;box-sizing: border-box;text-align: center;}#sk-container-id-3 label.sk-toggleable__label-arrow:before {content: \"▸\";float: left;margin-right: 0.25em;color: #696969;}#sk-container-id-3 label.sk-toggleable__label-arrow:hover:before {color: black;}#sk-container-id-3 div.sk-estimator:hover label.sk-toggleable__label-arrow:before {color: black;}#sk-container-id-3 div.sk-toggleable__content {max-height: 0;max-width: 0;overflow: hidden;text-align: left;background-color: #f0f8ff;}#sk-container-id-3 div.sk-toggleable__content pre {margin: 0.2em;color: black;border-radius: 0.25em;background-color: #f0f8ff;}#sk-container-id-3 input.sk-toggleable__control:checked~div.sk-toggleable__content {max-height: 200px;max-width: 100%;overflow: auto;}#sk-container-id-3 input.sk-toggleable__control:checked~label.sk-toggleable__label-arrow:before {content: \"▾\";}#sk-container-id-3 div.sk-estimator input.sk-toggleable__control:checked~label.sk-toggleable__label {background-color: #d4ebff;}#sk-container-id-3 div.sk-label input.sk-toggleable__control:checked~label.sk-toggleable__label {background-color: #d4ebff;}#sk-container-id-3 input.sk-hidden--visually {border: 0;clip: rect(1px 1px 1px 1px);clip: rect(1px, 1px, 1px, 1px);height: 1px;margin: -1px;overflow: hidden;padding: 0;position: absolute;width: 1px;}#sk-container-id-3 div.sk-estimator {font-family: monospace;background-color: #f0f8ff;border: 1px dotted black;border-radius: 0.25em;box-sizing: border-box;margin-bottom: 0.5em;}#sk-container-id-3 div.sk-estimator:hover {background-color: #d4ebff;}#sk-container-id-3 div.sk-parallel-item::after {content: \"\";width: 100%;border-bottom: 1px solid gray;flex-grow: 1;}#sk-container-id-3 div.sk-label:hover label.sk-toggleable__label {background-color: #d4ebff;}#sk-container-id-3 div.sk-serial::before {content: \"\";position: absolute;border-left: 1px solid gray;box-sizing: border-box;top: 0;bottom: 0;left: 50%;z-index: 0;}#sk-container-id-3 div.sk-serial {display: flex;flex-direction: column;align-items: center;background-color: white;padding-right: 0.2em;padding-left: 0.2em;position: relative;}#sk-container-id-3 div.sk-item {position: relative;z-index: 1;}#sk-container-id-3 div.sk-parallel {display: flex;align-items: stretch;justify-content: center;background-color: white;position: relative;}#sk-container-id-3 div.sk-item::before, #sk-container-id-3 div.sk-parallel-item::before {content: \"\";position: absolute;border-left: 1px solid gray;box-sizing: border-box;top: 0;bottom: 0;left: 50%;z-index: -1;}#sk-container-id-3 div.sk-parallel-item {display: flex;flex-direction: column;z-index: 1;position: relative;background-color: white;}#sk-container-id-3 div.sk-parallel-item:first-child::after {align-self: flex-end;width: 50%;}#sk-container-id-3 div.sk-parallel-item:last-child::after {align-self: flex-start;width: 50%;}#sk-container-id-3 div.sk-parallel-item:only-child::after {width: 0;}#sk-container-id-3 div.sk-dashed-wrapped {border: 1px dashed gray;margin: 0 0.4em 0.5em 0.4em;box-sizing: border-box;padding-bottom: 0.4em;background-color: white;}#sk-container-id-3 div.sk-label label {font-family: monospace;font-weight: bold;display: inline-block;line-height: 1.2em;}#sk-container-id-3 div.sk-label-container {text-align: center;}#sk-container-id-3 div.sk-container {/* jupyter's `normalize.less` sets `[hidden] { display: none; }` but bootstrap.min.css set `[hidden] { display: none !important; }` so we also need the `!important` here to be able to override the default hidden behavior on the sphinx rendered scikit-learn.org. See: https://github.com/scikit-learn/scikit-learn/issues/21755 */display: inline-block !important;position: relative;}#sk-container-id-3 div.sk-text-repr-fallback {display: none;}</style><div id=\"sk-container-id-3\" class=\"sk-top-container\"><div class=\"sk-text-repr-fallback\"><pre>Normalizer()</pre><b>In a Jupyter environment, please rerun this cell to show the HTML representation or trust the notebook. <br />On GitHub, the HTML representation is unable to render, please try loading this page with nbviewer.org.</b></div><div class=\"sk-container\" hidden><div class=\"sk-item\"><div class=\"sk-estimator sk-toggleable\"><input class=\"sk-toggleable__control sk-hidden--visually\" id=\"sk-estimator-id-5\" type=\"checkbox\" checked><label for=\"sk-estimator-id-5\" class=\"sk-toggleable__label sk-toggleable__label-arrow\">Normalizer</label><div class=\"sk-toggleable__content\"><pre>Normalizer()</pre></div></div></div></div></div>"
            ],
            "text/plain": [
              "Normalizer()"
            ]
          },
          "execution_count": 26,
          "metadata": {},
          "output_type": "execute_result"
        }
      ],
      "source": [
        "normalizer = preprocessing.Normalizer().fit(X)  # fit does nothing\n",
        "normalizer"
      ]
    },
    {
      "cell_type": "code",
      "execution_count": 27,
      "metadata": {
        "colab": {
          "base_uri": "https://localhost:8080/"
        },
        "id": "YllpyL-RGwWS",
        "outputId": "f4e2201b-00d1-4eee-f871-067a000059e4"
      },
      "outputs": [
        {
          "data": {
            "text/plain": [
              "array([[ 0.40824829, -0.40824829,  0.81649658],\n",
              "       [ 1.        ,  0.        ,  0.        ],\n",
              "       [ 0.        ,  0.70710678, -0.70710678]])"
            ]
          },
          "execution_count": 27,
          "metadata": {},
          "output_type": "execute_result"
        }
      ],
      "source": [
        "normalizer.transform(X)"
      ]
    },
    {
      "cell_type": "code",
      "execution_count": 28,
      "metadata": {
        "colab": {
          "base_uri": "https://localhost:8080/"
        },
        "id": "KeO6VlJMG1ZB",
        "outputId": "83bec40e-dcfa-4906-99a2-637a3fcf10ab"
      },
      "outputs": [
        {
          "data": {
            "text/plain": [
              "array([[-0.70710678,  0.70710678,  0.        ]])"
            ]
          },
          "execution_count": 28,
          "metadata": {},
          "output_type": "execute_result"
        }
      ],
      "source": [
        "normalizer.transform([[-1.,  1., 0.]])"
      ]
    },
    {
      "cell_type": "markdown",
      "metadata": {
        "id": "POZnlyTCG26a"
      },
      "source": [
        "## 4. 범주형 특성 인코딩"
      ]
    },
    {
      "attachments": {},
      "cell_type": "markdown",
      "metadata": {},
      "source": [
        "종종 features은 수치형이 아니라 범주형 데이터로 주어질 수 있다.\n",
        "\n",
        "이러한 범주형 데이터를 정수형의 수치형 코드로 변환하기 위해 순서형 인코더를 사용할 수 있다."
      ]
    },
    {
      "cell_type": "code",
      "execution_count": 29,
      "metadata": {
        "colab": {
          "base_uri": "https://localhost:8080/"
        },
        "id": "fZYAIVjSG2MK",
        "outputId": "74769c0e-1ee0-4010-8345-222fd33e490c"
      },
      "outputs": [
        {
          "data": {
            "text/html": [
              "<style>#sk-container-id-4 {color: black;background-color: white;}#sk-container-id-4 pre{padding: 0;}#sk-container-id-4 div.sk-toggleable {background-color: white;}#sk-container-id-4 label.sk-toggleable__label {cursor: pointer;display: block;width: 100%;margin-bottom: 0;padding: 0.3em;box-sizing: border-box;text-align: center;}#sk-container-id-4 label.sk-toggleable__label-arrow:before {content: \"▸\";float: left;margin-right: 0.25em;color: #696969;}#sk-container-id-4 label.sk-toggleable__label-arrow:hover:before {color: black;}#sk-container-id-4 div.sk-estimator:hover label.sk-toggleable__label-arrow:before {color: black;}#sk-container-id-4 div.sk-toggleable__content {max-height: 0;max-width: 0;overflow: hidden;text-align: left;background-color: #f0f8ff;}#sk-container-id-4 div.sk-toggleable__content pre {margin: 0.2em;color: black;border-radius: 0.25em;background-color: #f0f8ff;}#sk-container-id-4 input.sk-toggleable__control:checked~div.sk-toggleable__content {max-height: 200px;max-width: 100%;overflow: auto;}#sk-container-id-4 input.sk-toggleable__control:checked~label.sk-toggleable__label-arrow:before {content: \"▾\";}#sk-container-id-4 div.sk-estimator input.sk-toggleable__control:checked~label.sk-toggleable__label {background-color: #d4ebff;}#sk-container-id-4 div.sk-label input.sk-toggleable__control:checked~label.sk-toggleable__label {background-color: #d4ebff;}#sk-container-id-4 input.sk-hidden--visually {border: 0;clip: rect(1px 1px 1px 1px);clip: rect(1px, 1px, 1px, 1px);height: 1px;margin: -1px;overflow: hidden;padding: 0;position: absolute;width: 1px;}#sk-container-id-4 div.sk-estimator {font-family: monospace;background-color: #f0f8ff;border: 1px dotted black;border-radius: 0.25em;box-sizing: border-box;margin-bottom: 0.5em;}#sk-container-id-4 div.sk-estimator:hover {background-color: #d4ebff;}#sk-container-id-4 div.sk-parallel-item::after {content: \"\";width: 100%;border-bottom: 1px solid gray;flex-grow: 1;}#sk-container-id-4 div.sk-label:hover label.sk-toggleable__label {background-color: #d4ebff;}#sk-container-id-4 div.sk-serial::before {content: \"\";position: absolute;border-left: 1px solid gray;box-sizing: border-box;top: 0;bottom: 0;left: 50%;z-index: 0;}#sk-container-id-4 div.sk-serial {display: flex;flex-direction: column;align-items: center;background-color: white;padding-right: 0.2em;padding-left: 0.2em;position: relative;}#sk-container-id-4 div.sk-item {position: relative;z-index: 1;}#sk-container-id-4 div.sk-parallel {display: flex;align-items: stretch;justify-content: center;background-color: white;position: relative;}#sk-container-id-4 div.sk-item::before, #sk-container-id-4 div.sk-parallel-item::before {content: \"\";position: absolute;border-left: 1px solid gray;box-sizing: border-box;top: 0;bottom: 0;left: 50%;z-index: -1;}#sk-container-id-4 div.sk-parallel-item {display: flex;flex-direction: column;z-index: 1;position: relative;background-color: white;}#sk-container-id-4 div.sk-parallel-item:first-child::after {align-self: flex-end;width: 50%;}#sk-container-id-4 div.sk-parallel-item:last-child::after {align-self: flex-start;width: 50%;}#sk-container-id-4 div.sk-parallel-item:only-child::after {width: 0;}#sk-container-id-4 div.sk-dashed-wrapped {border: 1px dashed gray;margin: 0 0.4em 0.5em 0.4em;box-sizing: border-box;padding-bottom: 0.4em;background-color: white;}#sk-container-id-4 div.sk-label label {font-family: monospace;font-weight: bold;display: inline-block;line-height: 1.2em;}#sk-container-id-4 div.sk-label-container {text-align: center;}#sk-container-id-4 div.sk-container {/* jupyter's `normalize.less` sets `[hidden] { display: none; }` but bootstrap.min.css set `[hidden] { display: none !important; }` so we also need the `!important` here to be able to override the default hidden behavior on the sphinx rendered scikit-learn.org. See: https://github.com/scikit-learn/scikit-learn/issues/21755 */display: inline-block !important;position: relative;}#sk-container-id-4 div.sk-text-repr-fallback {display: none;}</style><div id=\"sk-container-id-4\" class=\"sk-top-container\"><div class=\"sk-text-repr-fallback\"><pre>OrdinalEncoder()</pre><b>In a Jupyter environment, please rerun this cell to show the HTML representation or trust the notebook. <br />On GitHub, the HTML representation is unable to render, please try loading this page with nbviewer.org.</b></div><div class=\"sk-container\" hidden><div class=\"sk-item\"><div class=\"sk-estimator sk-toggleable\"><input class=\"sk-toggleable__control sk-hidden--visually\" id=\"sk-estimator-id-6\" type=\"checkbox\" checked><label for=\"sk-estimator-id-6\" class=\"sk-toggleable__label sk-toggleable__label-arrow\">OrdinalEncoder</label><div class=\"sk-toggleable__content\"><pre>OrdinalEncoder()</pre></div></div></div></div></div>"
            ],
            "text/plain": [
              "OrdinalEncoder()"
            ]
          },
          "execution_count": 29,
          "metadata": {},
          "output_type": "execute_result"
        }
      ],
      "source": [
        "enc = preprocessing.OrdinalEncoder()\n",
        "X = [['male', 'from US', 'uses Safari'], ['female', 'from Europe', 'uses Firefox']]\n",
        "enc.fit(X)"
      ]
    },
    {
      "cell_type": "code",
      "execution_count": 30,
      "metadata": {
        "colab": {
          "base_uri": "https://localhost:8080/"
        },
        "id": "Zlm2DCGhG8Vt",
        "outputId": "0076c693-7e96-45a4-e2f8-ad4382a730cf"
      },
      "outputs": [
        {
          "data": {
            "text/plain": [
              "array([[0., 1., 1.]])"
            ]
          },
          "execution_count": 30,
          "metadata": {},
          "output_type": "execute_result"
        }
      ],
      "source": [
        "enc.transform([['female', 'from US', 'uses Safari']])"
      ]
    },
    {
      "attachments": {},
      "cell_type": "markdown",
      "metadata": {},
      "source": [
        "그러나 이러한 정수 표현은 지속적으로 입력이 주어지는 scikit learn 추정기에 적합하지 않다.\n",
        "\n",
        "범주를 순서가 지정된 것으로 해석할 수 있는 오해를 불러일으킬 수도 있다.\n",
        "\n",
        "np.nan 결측치도 통과시켜버린다."
      ]
    },
    {
      "cell_type": "code",
      "execution_count": 31,
      "metadata": {
        "colab": {
          "base_uri": "https://localhost:8080/"
        },
        "id": "20zsiaPWG9fW",
        "outputId": "c8021e7a-cb5d-4cfc-82a0-d8afcb3a13ed"
      },
      "outputs": [
        {
          "data": {
            "text/plain": [
              "array([[ 1.],\n",
              "       [ 0.],\n",
              "       [nan],\n",
              "       [ 0.]])"
            ]
          },
          "execution_count": 31,
          "metadata": {},
          "output_type": "execute_result"
        }
      ],
      "source": [
        "enc = preprocessing.OrdinalEncoder()\n",
        "X = [['male'], ['female'], [np.nan], ['female']]\n",
        "enc.fit_transform(X)"
      ]
    },
    {
      "attachments": {},
      "cell_type": "markdown",
      "metadata": {},
      "source": [
        "OrdinalEncoder는 파이프라인을 생성할 필요 없이 SimpleImputer를 사용하여 누락된 값을 인코딩하는 매개 변수 encoded_missing_value를 제공한다."
      ]
    },
    {
      "cell_type": "code",
      "execution_count": 32,
      "metadata": {
        "colab": {
          "base_uri": "https://localhost:8080/"
        },
        "id": "2fLhu0zBG-x_",
        "outputId": "5928948c-faf4-4955-e6de-d81179a5590d"
      },
      "outputs": [
        {
          "data": {
            "text/plain": [
              "array([[ 1.],\n",
              "       [ 0.],\n",
              "       [-1.],\n",
              "       [ 0.]])"
            ]
          },
          "execution_count": 32,
          "metadata": {},
          "output_type": "execute_result"
        }
      ],
      "source": [
        "enc = preprocessing.OrdinalEncoder(encoded_missing_value=-1)\n",
        "X = [['male'], ['female'], [np.nan], ['female']]\n",
        "enc.fit_transform(X)"
      ]
    },
    {
      "cell_type": "code",
      "execution_count": 33,
      "metadata": {
        "colab": {
          "base_uri": "https://localhost:8080/"
        },
        "id": "dlyZvXfTHAD6",
        "outputId": "66f752f0-908f-40de-cde0-082759436c4e"
      },
      "outputs": [
        {
          "data": {
            "text/plain": [
              "array([[ 1.],\n",
              "       [ 0.],\n",
              "       [-1.],\n",
              "       [ 0.]])"
            ]
          },
          "execution_count": 33,
          "metadata": {},
          "output_type": "execute_result"
        }
      ],
      "source": [
        "from sklearn.pipeline import Pipeline\n",
        "from sklearn.impute import SimpleImputer\n",
        "enc = Pipeline(steps=[\n",
        "    (\"encoder\", preprocessing.OrdinalEncoder()),\n",
        "    (\"imputer\", SimpleImputer(strategy=\"constant\", fill_value=-1)),\n",
        "])\n",
        "enc.fit_transform(X)"
      ]
    },
    {
      "attachments": {},
      "cell_type": "markdown",
      "metadata": {},
      "source": [
        "범주형 데이터는 OneHotEncode라는 방식으로 사용할 수도 있다.\n",
        "해당하는 값은 1을 주고 나머지는 0을 넣는다."
      ]
    },
    {
      "cell_type": "code",
      "execution_count": 34,
      "metadata": {
        "colab": {
          "base_uri": "https://localhost:8080/"
        },
        "id": "vFllx4OZHCLM",
        "outputId": "e2599157-2572-4925-f373-385b8dc8b693"
      },
      "outputs": [
        {
          "data": {
            "text/html": [
              "<style>#sk-container-id-5 {color: black;background-color: white;}#sk-container-id-5 pre{padding: 0;}#sk-container-id-5 div.sk-toggleable {background-color: white;}#sk-container-id-5 label.sk-toggleable__label {cursor: pointer;display: block;width: 100%;margin-bottom: 0;padding: 0.3em;box-sizing: border-box;text-align: center;}#sk-container-id-5 label.sk-toggleable__label-arrow:before {content: \"▸\";float: left;margin-right: 0.25em;color: #696969;}#sk-container-id-5 label.sk-toggleable__label-arrow:hover:before {color: black;}#sk-container-id-5 div.sk-estimator:hover label.sk-toggleable__label-arrow:before {color: black;}#sk-container-id-5 div.sk-toggleable__content {max-height: 0;max-width: 0;overflow: hidden;text-align: left;background-color: #f0f8ff;}#sk-container-id-5 div.sk-toggleable__content pre {margin: 0.2em;color: black;border-radius: 0.25em;background-color: #f0f8ff;}#sk-container-id-5 input.sk-toggleable__control:checked~div.sk-toggleable__content {max-height: 200px;max-width: 100%;overflow: auto;}#sk-container-id-5 input.sk-toggleable__control:checked~label.sk-toggleable__label-arrow:before {content: \"▾\";}#sk-container-id-5 div.sk-estimator input.sk-toggleable__control:checked~label.sk-toggleable__label {background-color: #d4ebff;}#sk-container-id-5 div.sk-label input.sk-toggleable__control:checked~label.sk-toggleable__label {background-color: #d4ebff;}#sk-container-id-5 input.sk-hidden--visually {border: 0;clip: rect(1px 1px 1px 1px);clip: rect(1px, 1px, 1px, 1px);height: 1px;margin: -1px;overflow: hidden;padding: 0;position: absolute;width: 1px;}#sk-container-id-5 div.sk-estimator {font-family: monospace;background-color: #f0f8ff;border: 1px dotted black;border-radius: 0.25em;box-sizing: border-box;margin-bottom: 0.5em;}#sk-container-id-5 div.sk-estimator:hover {background-color: #d4ebff;}#sk-container-id-5 div.sk-parallel-item::after {content: \"\";width: 100%;border-bottom: 1px solid gray;flex-grow: 1;}#sk-container-id-5 div.sk-label:hover label.sk-toggleable__label {background-color: #d4ebff;}#sk-container-id-5 div.sk-serial::before {content: \"\";position: absolute;border-left: 1px solid gray;box-sizing: border-box;top: 0;bottom: 0;left: 50%;z-index: 0;}#sk-container-id-5 div.sk-serial {display: flex;flex-direction: column;align-items: center;background-color: white;padding-right: 0.2em;padding-left: 0.2em;position: relative;}#sk-container-id-5 div.sk-item {position: relative;z-index: 1;}#sk-container-id-5 div.sk-parallel {display: flex;align-items: stretch;justify-content: center;background-color: white;position: relative;}#sk-container-id-5 div.sk-item::before, #sk-container-id-5 div.sk-parallel-item::before {content: \"\";position: absolute;border-left: 1px solid gray;box-sizing: border-box;top: 0;bottom: 0;left: 50%;z-index: -1;}#sk-container-id-5 div.sk-parallel-item {display: flex;flex-direction: column;z-index: 1;position: relative;background-color: white;}#sk-container-id-5 div.sk-parallel-item:first-child::after {align-self: flex-end;width: 50%;}#sk-container-id-5 div.sk-parallel-item:last-child::after {align-self: flex-start;width: 50%;}#sk-container-id-5 div.sk-parallel-item:only-child::after {width: 0;}#sk-container-id-5 div.sk-dashed-wrapped {border: 1px dashed gray;margin: 0 0.4em 0.5em 0.4em;box-sizing: border-box;padding-bottom: 0.4em;background-color: white;}#sk-container-id-5 div.sk-label label {font-family: monospace;font-weight: bold;display: inline-block;line-height: 1.2em;}#sk-container-id-5 div.sk-label-container {text-align: center;}#sk-container-id-5 div.sk-container {/* jupyter's `normalize.less` sets `[hidden] { display: none; }` but bootstrap.min.css set `[hidden] { display: none !important; }` so we also need the `!important` here to be able to override the default hidden behavior on the sphinx rendered scikit-learn.org. See: https://github.com/scikit-learn/scikit-learn/issues/21755 */display: inline-block !important;position: relative;}#sk-container-id-5 div.sk-text-repr-fallback {display: none;}</style><div id=\"sk-container-id-5\" class=\"sk-top-container\"><div class=\"sk-text-repr-fallback\"><pre>OneHotEncoder()</pre><b>In a Jupyter environment, please rerun this cell to show the HTML representation or trust the notebook. <br />On GitHub, the HTML representation is unable to render, please try loading this page with nbviewer.org.</b></div><div class=\"sk-container\" hidden><div class=\"sk-item\"><div class=\"sk-estimator sk-toggleable\"><input class=\"sk-toggleable__control sk-hidden--visually\" id=\"sk-estimator-id-7\" type=\"checkbox\" checked><label for=\"sk-estimator-id-7\" class=\"sk-toggleable__label sk-toggleable__label-arrow\">OneHotEncoder</label><div class=\"sk-toggleable__content\"><pre>OneHotEncoder()</pre></div></div></div></div></div>"
            ],
            "text/plain": [
              "OneHotEncoder()"
            ]
          },
          "execution_count": 34,
          "metadata": {},
          "output_type": "execute_result"
        }
      ],
      "source": [
        "enc = preprocessing.OneHotEncoder()\n",
        "X = [['male', 'from US', 'uses Safari'], ['female', 'from Europe', 'uses Firefox']]\n",
        "enc.fit(X)"
      ]
    },
    {
      "cell_type": "code",
      "execution_count": 35,
      "metadata": {
        "colab": {
          "base_uri": "https://localhost:8080/"
        },
        "id": "p0A-8Z9KHEm_",
        "outputId": "6e91f06d-80fc-4f8c-8f24-906c213cf66f"
      },
      "outputs": [
        {
          "data": {
            "text/plain": [
              "array([[1., 0., 0., 1., 0., 1.],\n",
              "       [0., 1., 1., 0., 0., 1.]])"
            ]
          },
          "execution_count": 35,
          "metadata": {},
          "output_type": "execute_result"
        }
      ],
      "source": [
        "enc.transform([['female', 'from US', 'uses Safari'],\n",
        "               ['male', 'from Europe', 'uses Safari']]).toarray()"
      ]
    },
    {
      "cell_type": "code",
      "execution_count": 36,
      "metadata": {
        "colab": {
          "base_uri": "https://localhost:8080/"
        },
        "id": "Qf63Em62HFiO",
        "outputId": "919398af-7c1e-41ee-ded0-fadaa3aa46c6"
      },
      "outputs": [
        {
          "data": {
            "text/plain": [
              "[array(['female', 'male'], dtype=object),\n",
              " array(['from Europe', 'from US'], dtype=object),\n",
              " array(['uses Firefox', 'uses Safari'], dtype=object)]"
            ]
          },
          "execution_count": 36,
          "metadata": {},
          "output_type": "execute_result"
        }
      ],
      "source": [
        "enc.categories_\n"
      ]
    },
    {
      "cell_type": "code",
      "execution_count": 37,
      "metadata": {
        "colab": {
          "base_uri": "https://localhost:8080/"
        },
        "id": "30fw5d28HGsE",
        "outputId": "8208fd76-f33b-4e5a-ce91-2e23aee598ce"
      },
      "outputs": [
        {
          "data": {
            "text/html": [
              "<style>#sk-container-id-6 {color: black;background-color: white;}#sk-container-id-6 pre{padding: 0;}#sk-container-id-6 div.sk-toggleable {background-color: white;}#sk-container-id-6 label.sk-toggleable__label {cursor: pointer;display: block;width: 100%;margin-bottom: 0;padding: 0.3em;box-sizing: border-box;text-align: center;}#sk-container-id-6 label.sk-toggleable__label-arrow:before {content: \"▸\";float: left;margin-right: 0.25em;color: #696969;}#sk-container-id-6 label.sk-toggleable__label-arrow:hover:before {color: black;}#sk-container-id-6 div.sk-estimator:hover label.sk-toggleable__label-arrow:before {color: black;}#sk-container-id-6 div.sk-toggleable__content {max-height: 0;max-width: 0;overflow: hidden;text-align: left;background-color: #f0f8ff;}#sk-container-id-6 div.sk-toggleable__content pre {margin: 0.2em;color: black;border-radius: 0.25em;background-color: #f0f8ff;}#sk-container-id-6 input.sk-toggleable__control:checked~div.sk-toggleable__content {max-height: 200px;max-width: 100%;overflow: auto;}#sk-container-id-6 input.sk-toggleable__control:checked~label.sk-toggleable__label-arrow:before {content: \"▾\";}#sk-container-id-6 div.sk-estimator input.sk-toggleable__control:checked~label.sk-toggleable__label {background-color: #d4ebff;}#sk-container-id-6 div.sk-label input.sk-toggleable__control:checked~label.sk-toggleable__label {background-color: #d4ebff;}#sk-container-id-6 input.sk-hidden--visually {border: 0;clip: rect(1px 1px 1px 1px);clip: rect(1px, 1px, 1px, 1px);height: 1px;margin: -1px;overflow: hidden;padding: 0;position: absolute;width: 1px;}#sk-container-id-6 div.sk-estimator {font-family: monospace;background-color: #f0f8ff;border: 1px dotted black;border-radius: 0.25em;box-sizing: border-box;margin-bottom: 0.5em;}#sk-container-id-6 div.sk-estimator:hover {background-color: #d4ebff;}#sk-container-id-6 div.sk-parallel-item::after {content: \"\";width: 100%;border-bottom: 1px solid gray;flex-grow: 1;}#sk-container-id-6 div.sk-label:hover label.sk-toggleable__label {background-color: #d4ebff;}#sk-container-id-6 div.sk-serial::before {content: \"\";position: absolute;border-left: 1px solid gray;box-sizing: border-box;top: 0;bottom: 0;left: 50%;z-index: 0;}#sk-container-id-6 div.sk-serial {display: flex;flex-direction: column;align-items: center;background-color: white;padding-right: 0.2em;padding-left: 0.2em;position: relative;}#sk-container-id-6 div.sk-item {position: relative;z-index: 1;}#sk-container-id-6 div.sk-parallel {display: flex;align-items: stretch;justify-content: center;background-color: white;position: relative;}#sk-container-id-6 div.sk-item::before, #sk-container-id-6 div.sk-parallel-item::before {content: \"\";position: absolute;border-left: 1px solid gray;box-sizing: border-box;top: 0;bottom: 0;left: 50%;z-index: -1;}#sk-container-id-6 div.sk-parallel-item {display: flex;flex-direction: column;z-index: 1;position: relative;background-color: white;}#sk-container-id-6 div.sk-parallel-item:first-child::after {align-self: flex-end;width: 50%;}#sk-container-id-6 div.sk-parallel-item:last-child::after {align-self: flex-start;width: 50%;}#sk-container-id-6 div.sk-parallel-item:only-child::after {width: 0;}#sk-container-id-6 div.sk-dashed-wrapped {border: 1px dashed gray;margin: 0 0.4em 0.5em 0.4em;box-sizing: border-box;padding-bottom: 0.4em;background-color: white;}#sk-container-id-6 div.sk-label label {font-family: monospace;font-weight: bold;display: inline-block;line-height: 1.2em;}#sk-container-id-6 div.sk-label-container {text-align: center;}#sk-container-id-6 div.sk-container {/* jupyter's `normalize.less` sets `[hidden] { display: none; }` but bootstrap.min.css set `[hidden] { display: none !important; }` so we also need the `!important` here to be able to override the default hidden behavior on the sphinx rendered scikit-learn.org. See: https://github.com/scikit-learn/scikit-learn/issues/21755 */display: inline-block !important;position: relative;}#sk-container-id-6 div.sk-text-repr-fallback {display: none;}</style><div id=\"sk-container-id-6\" class=\"sk-top-container\"><div class=\"sk-text-repr-fallback\"><pre>OneHotEncoder(categories=[[&#x27;female&#x27;, &#x27;male&#x27;],\n",
              "                          [&#x27;from Africa&#x27;, &#x27;from Asia&#x27;, &#x27;from Europe&#x27;,\n",
              "                           &#x27;from US&#x27;],\n",
              "                          [&#x27;uses Chrome&#x27;, &#x27;uses Firefox&#x27;, &#x27;uses IE&#x27;,\n",
              "                           &#x27;uses Safari&#x27;]])</pre><b>In a Jupyter environment, please rerun this cell to show the HTML representation or trust the notebook. <br />On GitHub, the HTML representation is unable to render, please try loading this page with nbviewer.org.</b></div><div class=\"sk-container\" hidden><div class=\"sk-item\"><div class=\"sk-estimator sk-toggleable\"><input class=\"sk-toggleable__control sk-hidden--visually\" id=\"sk-estimator-id-8\" type=\"checkbox\" checked><label for=\"sk-estimator-id-8\" class=\"sk-toggleable__label sk-toggleable__label-arrow\">OneHotEncoder</label><div class=\"sk-toggleable__content\"><pre>OneHotEncoder(categories=[[&#x27;female&#x27;, &#x27;male&#x27;],\n",
              "                          [&#x27;from Africa&#x27;, &#x27;from Asia&#x27;, &#x27;from Europe&#x27;,\n",
              "                           &#x27;from US&#x27;],\n",
              "                          [&#x27;uses Chrome&#x27;, &#x27;uses Firefox&#x27;, &#x27;uses IE&#x27;,\n",
              "                           &#x27;uses Safari&#x27;]])</pre></div></div></div></div></div>"
            ],
            "text/plain": [
              "OneHotEncoder(categories=[['female', 'male'],\n",
              "                          ['from Africa', 'from Asia', 'from Europe',\n",
              "                           'from US'],\n",
              "                          ['uses Chrome', 'uses Firefox', 'uses IE',\n",
              "                           'uses Safari']])"
            ]
          },
          "execution_count": 37,
          "metadata": {},
          "output_type": "execute_result"
        }
      ],
      "source": [
        "genders = ['female', 'male']\n",
        "locations = ['from Africa', 'from Asia', 'from Europe', 'from US']\n",
        "browsers = ['uses Chrome', 'uses Firefox', 'uses IE', 'uses Safari']\n",
        "enc = preprocessing.OneHotEncoder(categories=[genders, locations, browsers])\n",
        "# Note that for there are missing categorical values for the 2nd and 3rd\n",
        "# feature\n",
        "X = [['male', 'from US', 'uses Safari'], ['female', 'from Europe', 'uses Firefox']]\n",
        "enc.fit(X)"
      ]
    },
    {
      "cell_type": "code",
      "execution_count": 38,
      "metadata": {
        "colab": {
          "base_uri": "https://localhost:8080/"
        },
        "id": "7gqWxVoxHJZy",
        "outputId": "df3e8c65-8bf0-4b0b-99c3-ac26d2ea144b"
      },
      "outputs": [
        {
          "data": {
            "text/plain": [
              "array([[1., 0., 0., 1., 0., 0., 1., 0., 0., 0.]])"
            ]
          },
          "execution_count": 38,
          "metadata": {},
          "output_type": "execute_result"
        }
      ],
      "source": [
        "enc.transform([['female', 'from Asia', 'uses Chrome']]).toarray()"
      ]
    },
    {
      "attachments": {},
      "cell_type": "markdown",
      "metadata": {},
      "source": [
        "학습 데이터에 범주형 변수가 누락될 가능성이 있다면, 위에서 수동으로 범주를 설정하는 대신에 handle_unknown='infrequent_if_exist'를 지정하는 것이 더 나을 수도 있다.\n",
        "\n",
        "알 수 없는 범주가 발견되면 오류가 발생하지 않지만 해당 특성의 OneHotEncoding 열은 모두 0 이거나 활성화되면 드물게 나타나는 범주로 간주된다."
      ]
    },
    {
      "cell_type": "code",
      "execution_count": 39,
      "metadata": {
        "colab": {
          "base_uri": "https://localhost:8080/"
        },
        "id": "FNI_5_ZFHKf3",
        "outputId": "ba6db750-6c29-416b-e1f3-881e9160a821"
      },
      "outputs": [
        {
          "data": {
            "text/html": [
              "<style>#sk-container-id-7 {color: black;background-color: white;}#sk-container-id-7 pre{padding: 0;}#sk-container-id-7 div.sk-toggleable {background-color: white;}#sk-container-id-7 label.sk-toggleable__label {cursor: pointer;display: block;width: 100%;margin-bottom: 0;padding: 0.3em;box-sizing: border-box;text-align: center;}#sk-container-id-7 label.sk-toggleable__label-arrow:before {content: \"▸\";float: left;margin-right: 0.25em;color: #696969;}#sk-container-id-7 label.sk-toggleable__label-arrow:hover:before {color: black;}#sk-container-id-7 div.sk-estimator:hover label.sk-toggleable__label-arrow:before {color: black;}#sk-container-id-7 div.sk-toggleable__content {max-height: 0;max-width: 0;overflow: hidden;text-align: left;background-color: #f0f8ff;}#sk-container-id-7 div.sk-toggleable__content pre {margin: 0.2em;color: black;border-radius: 0.25em;background-color: #f0f8ff;}#sk-container-id-7 input.sk-toggleable__control:checked~div.sk-toggleable__content {max-height: 200px;max-width: 100%;overflow: auto;}#sk-container-id-7 input.sk-toggleable__control:checked~label.sk-toggleable__label-arrow:before {content: \"▾\";}#sk-container-id-7 div.sk-estimator input.sk-toggleable__control:checked~label.sk-toggleable__label {background-color: #d4ebff;}#sk-container-id-7 div.sk-label input.sk-toggleable__control:checked~label.sk-toggleable__label {background-color: #d4ebff;}#sk-container-id-7 input.sk-hidden--visually {border: 0;clip: rect(1px 1px 1px 1px);clip: rect(1px, 1px, 1px, 1px);height: 1px;margin: -1px;overflow: hidden;padding: 0;position: absolute;width: 1px;}#sk-container-id-7 div.sk-estimator {font-family: monospace;background-color: #f0f8ff;border: 1px dotted black;border-radius: 0.25em;box-sizing: border-box;margin-bottom: 0.5em;}#sk-container-id-7 div.sk-estimator:hover {background-color: #d4ebff;}#sk-container-id-7 div.sk-parallel-item::after {content: \"\";width: 100%;border-bottom: 1px solid gray;flex-grow: 1;}#sk-container-id-7 div.sk-label:hover label.sk-toggleable__label {background-color: #d4ebff;}#sk-container-id-7 div.sk-serial::before {content: \"\";position: absolute;border-left: 1px solid gray;box-sizing: border-box;top: 0;bottom: 0;left: 50%;z-index: 0;}#sk-container-id-7 div.sk-serial {display: flex;flex-direction: column;align-items: center;background-color: white;padding-right: 0.2em;padding-left: 0.2em;position: relative;}#sk-container-id-7 div.sk-item {position: relative;z-index: 1;}#sk-container-id-7 div.sk-parallel {display: flex;align-items: stretch;justify-content: center;background-color: white;position: relative;}#sk-container-id-7 div.sk-item::before, #sk-container-id-7 div.sk-parallel-item::before {content: \"\";position: absolute;border-left: 1px solid gray;box-sizing: border-box;top: 0;bottom: 0;left: 50%;z-index: -1;}#sk-container-id-7 div.sk-parallel-item {display: flex;flex-direction: column;z-index: 1;position: relative;background-color: white;}#sk-container-id-7 div.sk-parallel-item:first-child::after {align-self: flex-end;width: 50%;}#sk-container-id-7 div.sk-parallel-item:last-child::after {align-self: flex-start;width: 50%;}#sk-container-id-7 div.sk-parallel-item:only-child::after {width: 0;}#sk-container-id-7 div.sk-dashed-wrapped {border: 1px dashed gray;margin: 0 0.4em 0.5em 0.4em;box-sizing: border-box;padding-bottom: 0.4em;background-color: white;}#sk-container-id-7 div.sk-label label {font-family: monospace;font-weight: bold;display: inline-block;line-height: 1.2em;}#sk-container-id-7 div.sk-label-container {text-align: center;}#sk-container-id-7 div.sk-container {/* jupyter's `normalize.less` sets `[hidden] { display: none; }` but bootstrap.min.css set `[hidden] { display: none !important; }` so we also need the `!important` here to be able to override the default hidden behavior on the sphinx rendered scikit-learn.org. See: https://github.com/scikit-learn/scikit-learn/issues/21755 */display: inline-block !important;position: relative;}#sk-container-id-7 div.sk-text-repr-fallback {display: none;}</style><div id=\"sk-container-id-7\" class=\"sk-top-container\"><div class=\"sk-text-repr-fallback\"><pre>OneHotEncoder(handle_unknown=&#x27;infrequent_if_exist&#x27;)</pre><b>In a Jupyter environment, please rerun this cell to show the HTML representation or trust the notebook. <br />On GitHub, the HTML representation is unable to render, please try loading this page with nbviewer.org.</b></div><div class=\"sk-container\" hidden><div class=\"sk-item\"><div class=\"sk-estimator sk-toggleable\"><input class=\"sk-toggleable__control sk-hidden--visually\" id=\"sk-estimator-id-9\" type=\"checkbox\" checked><label for=\"sk-estimator-id-9\" class=\"sk-toggleable__label sk-toggleable__label-arrow\">OneHotEncoder</label><div class=\"sk-toggleable__content\"><pre>OneHotEncoder(handle_unknown=&#x27;infrequent_if_exist&#x27;)</pre></div></div></div></div></div>"
            ],
            "text/plain": [
              "OneHotEncoder(handle_unknown='infrequent_if_exist')"
            ]
          },
          "execution_count": 39,
          "metadata": {},
          "output_type": "execute_result"
        }
      ],
      "source": [
        "enc = preprocessing.OneHotEncoder(handle_unknown='infrequent_if_exist')\n",
        "X = [['male', 'from US', 'uses Safari'], ['female', 'from Europe', 'uses Firefox']]\n",
        "enc.fit(X)"
      ]
    },
    {
      "cell_type": "code",
      "execution_count": 40,
      "metadata": {
        "colab": {
          "base_uri": "https://localhost:8080/"
        },
        "id": "D1_FJWClHMbX",
        "outputId": "183f0489-ebbc-4a54-86fc-c69e153402b2"
      },
      "outputs": [
        {
          "data": {
            "text/plain": [
              "array([[1., 0., 0., 0., 0., 0.]])"
            ]
          },
          "execution_count": 40,
          "metadata": {},
          "output_type": "execute_result"
        }
      ],
      "source": [
        "enc.transform([['female', 'from Asia', 'uses Chrome']]).toarray()"
      ]
    },
    {
      "attachments": {},
      "cell_type": "markdown",
      "metadata": {},
      "source": [
        "drop 매개 변수를 사용하여 n_categories 열 대신 n_categories-1 열로 각 열을 인코딩하는 것도 가능하다.\n",
        "\n",
        "이러한 기능은 예를 들어, 공선성이 발생할 경우 비정규화 회귀 (LinearRegression)를 사용할 때 유용하다."
      ]
    },
    {
      "cell_type": "code",
      "execution_count": 41,
      "metadata": {
        "colab": {
          "base_uri": "https://localhost:8080/"
        },
        "id": "3hrh0_uVHNhC",
        "outputId": "01f43f13-8c5e-49af-fb2a-22bdfdd71a00"
      },
      "outputs": [
        {
          "data": {
            "text/plain": [
              "[array(['female', 'male'], dtype=object),\n",
              " array(['from Europe', 'from US'], dtype=object),\n",
              " array(['uses Firefox', 'uses Safari'], dtype=object)]"
            ]
          },
          "execution_count": 41,
          "metadata": {},
          "output_type": "execute_result"
        }
      ],
      "source": [
        "X = [['male', 'from US', 'uses Safari'],\n",
        "     ['female', 'from Europe', 'uses Firefox']]\n",
        "drop_enc = preprocessing.OneHotEncoder(drop='first').fit(X)\n",
        "drop_enc.categories_"
      ]
    },
    {
      "cell_type": "code",
      "execution_count": 42,
      "metadata": {
        "colab": {
          "base_uri": "https://localhost:8080/"
        },
        "id": "Sf1s7ZbYHPfa",
        "outputId": "3629bdca-4b7a-4ca2-f2cf-15c893760fb4"
      },
      "outputs": [
        {
          "data": {
            "text/plain": [
              "array([[1., 1., 1.],\n",
              "       [0., 0., 0.]])"
            ]
          },
          "execution_count": 42,
          "metadata": {},
          "output_type": "execute_result"
        }
      ],
      "source": [
        "drop_enc.transform(X).toarray()"
      ]
    },
    {
      "cell_type": "code",
      "execution_count": 43,
      "metadata": {
        "colab": {
          "base_uri": "https://localhost:8080/"
        },
        "id": "Fl7GKqhbHQQR",
        "outputId": "0a466fc3-bb51-484b-ea34-c3c221a8b426"
      },
      "outputs": [
        {
          "data": {
            "text/plain": [
              "[array(['female', 'male'], dtype=object),\n",
              " array(['Asia', 'Europe', 'US'], dtype=object),\n",
              " array(['Chrome', 'Firefox', 'Safari'], dtype=object)]"
            ]
          },
          "execution_count": 43,
          "metadata": {},
          "output_type": "execute_result"
        }
      ],
      "source": [
        "X = [['male', 'US', 'Safari'],\n",
        "     ['female', 'Europe', 'Firefox'],\n",
        "     ['female', 'Asia', 'Chrome']]\n",
        "drop_enc = preprocessing.OneHotEncoder(drop='if_binary').fit(X)\n",
        "drop_enc.categories_"
      ]
    },
    {
      "cell_type": "code",
      "execution_count": 44,
      "metadata": {
        "colab": {
          "base_uri": "https://localhost:8080/"
        },
        "id": "x_N5cFFxHR2B",
        "outputId": "b759c243-92ef-4bc8-8135-c1213f9393cc"
      },
      "outputs": [
        {
          "data": {
            "text/plain": [
              "array([[1., 0., 0., 1., 0., 0., 1.],\n",
              "       [0., 0., 1., 0., 0., 1., 0.],\n",
              "       [0., 1., 0., 0., 1., 0., 0.]])"
            ]
          },
          "execution_count": 44,
          "metadata": {},
          "output_type": "execute_result"
        }
      ],
      "source": [
        "drop_enc.transform(X).toarray()"
      ]
    },
    {
      "attachments": {},
      "cell_type": "markdown",
      "metadata": {},
      "source": [
        "변환된 x에서 첫번째 열은 \"남성 여성\" 범주가 있는 feature의 인코딩이며 나머지 6개의 열은 각 3개의범주가 있는 2개의 features의 인코딩이다."
      ]
    },
    {
      "cell_type": "code",
      "execution_count": 45,
      "metadata": {
        "colab": {
          "base_uri": "https://localhost:8080/"
        },
        "id": "DKRQZUJTHS4D",
        "outputId": "2f640461-9df9-4804-a88b-d1cee0b3432f"
      },
      "outputs": [
        {
          "name": "stderr",
          "output_type": "stream",
          "text": [
            "C:\\Users\\kimjeongyeon\\AppData\\Local\\Packages\\PythonSoftwareFoundation.Python.3.10_qbz5n2kfra8p0\\LocalCache\\local-packages\\Python310\\site-packages\\sklearn\\preprocessing\\_encoders.py:202: UserWarning: Found unknown categories in columns [0, 1, 2] during transform. These unknown categories will be encoded as all zeros\n",
            "  warnings.warn(\n"
          ]
        },
        {
          "data": {
            "text/plain": [
              "array([[0., 0., 0., 0., 0.]])"
            ]
          },
          "execution_count": 45,
          "metadata": {},
          "output_type": "execute_result"
        }
      ],
      "source": [
        "drop_enc = preprocessing.OneHotEncoder(drop='first',\n",
        "                                       handle_unknown='ignore').fit(X)\n",
        "X_test = [['unknown', 'America', 'IE']]\n",
        "drop_enc.transform(X_test).toarray()"
      ]
    },
    {
      "attachments": {},
      "cell_type": "markdown",
      "metadata": {},
      "source": [
        "모든 x_test에 있는 범주는 변환되는 동안 unknown상태이고 0으로 매핑될것이다"
      ]
    },
    {
      "cell_type": "code",
      "execution_count": 46,
      "metadata": {
        "colab": {
          "base_uri": "https://localhost:8080/"
        },
        "id": "tWVc_vxlHU79",
        "outputId": "f3f45492-35ad-474f-d37e-fc06a589591b"
      },
      "outputs": [
        {
          "name": "stderr",
          "output_type": "stream",
          "text": [
            "C:\\Users\\kimjeongyeon\\AppData\\Local\\Packages\\PythonSoftwareFoundation.Python.3.10_qbz5n2kfra8p0\\LocalCache\\local-packages\\Python310\\site-packages\\sklearn\\preprocessing\\_encoders.py:202: UserWarning: Found unknown categories in columns [0, 1, 2] during transform. These unknown categories will be encoded as all zeros\n",
            "  warnings.warn(\n"
          ]
        },
        {
          "data": {
            "text/plain": [
              "array([[0., 0., 0., 0., 0., 0., 0.]])"
            ]
          },
          "execution_count": 46,
          "metadata": {},
          "output_type": "execute_result"
        }
      ],
      "source": [
        "drop_enc = preprocessing.OneHotEncoder(drop='if_binary', sparse_output=False,\n",
        "                                       handle_unknown='ignore').fit(X)\n",
        "X_test = [['unknown', 'America', 'IE']]\n",
        "X_trans = drop_enc.transform(X_test)\n",
        "X_trans"
      ]
    },
    {
      "cell_type": "code",
      "execution_count": 47,
      "metadata": {
        "colab": {
          "base_uri": "https://localhost:8080/"
        },
        "id": "4ZmAURg8HXzt",
        "outputId": "68af0e1e-095d-48f6-ac18-c085a9eb9533"
      },
      "outputs": [
        {
          "data": {
            "text/plain": [
              "array([['female', None, None]], dtype=object)"
            ]
          },
          "execution_count": 47,
          "metadata": {},
          "output_type": "execute_result"
        }
      ],
      "source": [
        "drop_enc.inverse_transform(X_trans)"
      ]
    },
    {
      "attachments": {},
      "cell_type": "markdown",
      "metadata": {},
      "source": [
        "원핫인코더는 결측치가 있는 범주 features를 도와준다."
      ]
    },
    {
      "cell_type": "code",
      "execution_count": 48,
      "metadata": {
        "colab": {
          "base_uri": "https://localhost:8080/"
        },
        "id": "2OkinzwgHZa5",
        "outputId": "6fbdb1f0-880d-49c3-e07a-e9f1c0bb4a04"
      },
      "outputs": [
        {
          "data": {
            "text/plain": [
              "[array(['female', 'male', nan], dtype=object),\n",
              " array(['Firefox', 'Safari', None], dtype=object)]"
            ]
          },
          "execution_count": 48,
          "metadata": {},
          "output_type": "execute_result"
        }
      ],
      "source": [
        "X = [['male', 'Safari'],\n",
        "     ['female', None],\n",
        "     [np.nan, 'Firefox']]\n",
        "enc = preprocessing.OneHotEncoder(handle_unknown='error').fit(X)\n",
        "enc.categories_"
      ]
    },
    {
      "cell_type": "code",
      "execution_count": 49,
      "metadata": {
        "colab": {
          "base_uri": "https://localhost:8080/"
        },
        "id": "sng-KIYCHa8D",
        "outputId": "300a1cb8-766d-4da6-a10e-eab0559cb2bd"
      },
      "outputs": [
        {
          "data": {
            "text/plain": [
              "array([[0., 1., 0., 0., 1., 0.],\n",
              "       [1., 0., 0., 0., 0., 1.],\n",
              "       [0., 0., 1., 1., 0., 0.]])"
            ]
          },
          "execution_count": 49,
          "metadata": {},
          "output_type": "execute_result"
        }
      ],
      "source": [
        "enc.transform(X).toarray()"
      ]
    },
    {
      "attachments": {},
      "cell_type": "markdown",
      "metadata": {},
      "source": [
        "만약 feature이 np.nan, None을 모두 포함하고 있다면, 범주가 분리되 수도 있다."
      ]
    },
    {
      "cell_type": "code",
      "execution_count": 50,
      "metadata": {
        "colab": {
          "base_uri": "https://localhost:8080/"
        },
        "id": "9Z2eA_9mHcG2",
        "outputId": "10766444-d811-482c-86c0-fe12b8ca10f6"
      },
      "outputs": [
        {
          "data": {
            "text/plain": [
              "[array(['Firefox', 'Safari', None, nan], dtype=object)]"
            ]
          },
          "execution_count": 50,
          "metadata": {},
          "output_type": "execute_result"
        }
      ],
      "source": [
        "X = [['Safari'], [None], [np.nan], ['Firefox']]\n",
        "enc = preprocessing.OneHotEncoder(handle_unknown='error').fit(X)\n",
        "enc.categories_"
      ]
    },
    {
      "cell_type": "code",
      "execution_count": 51,
      "metadata": {
        "colab": {
          "base_uri": "https://localhost:8080/"
        },
        "id": "iG-CeJ8EHeOm",
        "outputId": "a587f676-0c53-4f01-8a97-1d7faa3350ab"
      },
      "outputs": [
        {
          "data": {
            "text/plain": [
              "array([[0., 1., 0., 0.],\n",
              "       [0., 0., 1., 0.],\n",
              "       [0., 0., 0., 1.],\n",
              "       [1., 0., 0., 0.]])"
            ]
          },
          "execution_count": 51,
          "metadata": {},
          "output_type": "execute_result"
        }
      ],
      "source": [
        "enc.transform(X).toarray()"
      ]
    },
    {
      "attachments": {},
      "cell_type": "markdown",
      "metadata": {},
      "source": [
        "드물게 나타나는 범주에 대해 원핫인코더는 하나의 출력으로 집계하는 기능을 지원한다.\n",
        "\n",
        "예제에서는 dog, snake는 드물게 나타나는 범주로 간주된다."
      ]
    },
    {
      "cell_type": "code",
      "execution_count": 52,
      "metadata": {
        "colab": {
          "base_uri": "https://localhost:8080/"
        },
        "id": "w42EFSWVHfJ6",
        "outputId": "f9734e98-8eff-4567-fa6b-ad3b52dcab2f"
      },
      "outputs": [
        {
          "data": {
            "text/plain": [
              "[array(['dog', 'snake'], dtype=object)]"
            ]
          },
          "execution_count": 52,
          "metadata": {},
          "output_type": "execute_result"
        }
      ],
      "source": [
        "X = np.array([['dog'] * 5 + ['cat'] * 20 + ['rabbit'] * 10 +\n",
        "              ['snake'] * 3], dtype=object).T\n",
        "enc = preprocessing.OneHotEncoder(min_frequency=6, sparse_output=False).fit(X)\n",
        "enc.infrequent_categories_"
      ]
    },
    {
      "cell_type": "code",
      "execution_count": 53,
      "metadata": {
        "colab": {
          "base_uri": "https://localhost:8080/"
        },
        "id": "Bz9qA152Hgpj",
        "outputId": "20ff9179-2233-423c-99c9-7429fafbccfe"
      },
      "outputs": [
        {
          "data": {
            "text/plain": [
              "array([[0., 0., 1.],\n",
              "       [1., 0., 0.],\n",
              "       [0., 1., 0.],\n",
              "       [0., 0., 1.]])"
            ]
          },
          "execution_count": 53,
          "metadata": {},
          "output_type": "execute_result"
        }
      ],
      "source": [
        "enc.transform(np.array([['dog'], ['cat'], ['rabbit'], ['snake']]))"
      ]
    },
    {
      "attachments": {},
      "cell_type": "markdown",
      "metadata": {},
      "source": [
        "infrequent_if_exist을 handle_unknown 으로 둠으로써, 결측 범주는 드문 것으로 간주된다."
      ]
    },
    {
      "cell_type": "code",
      "execution_count": 54,
      "metadata": {
        "colab": {
          "base_uri": "https://localhost:8080/"
        },
        "id": "6E1kWud_HhsG",
        "outputId": "fd5ef18c-9566-4494-b383-7dbfbf311920"
      },
      "outputs": [
        {
          "data": {
            "text/plain": [
              "array([[0., 0., 1.]])"
            ]
          },
          "execution_count": 54,
          "metadata": {},
          "output_type": "execute_result"
        }
      ],
      "source": [
        "enc = preprocessing.OneHotEncoder(\n",
        "   handle_unknown='infrequent_if_exist', sparse_output=False, min_frequency=6)\n",
        "enc = enc.fit(X)\n",
        "enc.transform(np.array([['dragon']]))"
      ]
    },
    {
      "cell_type": "code",
      "execution_count": 55,
      "metadata": {
        "colab": {
          "base_uri": "https://localhost:8080/"
        },
        "id": "ZY7qTKUTHkC9",
        "outputId": "4a35bbb1-e861-4dad-84e5-7a502ba79b65"
      },
      "outputs": [
        {
          "data": {
            "text/plain": [
              "array(['x0_cat', 'x0_rabbit', 'x0_infrequent_sklearn'], dtype=object)"
            ]
          },
          "execution_count": 55,
          "metadata": {},
          "output_type": "execute_result"
        }
      ],
      "source": [
        "enc.get_feature_names_out()\n"
      ]
    },
    {
      "attachments": {},
      "cell_type": "markdown",
      "metadata": {},
      "source": [
        "드물게 나타나는 범주를 돕지 않았거나 그런 범주가 없는 경우 해당 원핫인코딩 열은 모두 0이 된다.\n",
        "\n",
        "만약 드물게 나타나는 범주가 있는 경우, 알 수 없는 범주는 드물게 나타나는 범주로 간ㄴ주된다.\n",
        "\n",
        "max_categories를 사용하여 드물게 나타나는 범주를 구성할 수 있다."
      ]
    },
    {
      "cell_type": "code",
      "execution_count": 56,
      "metadata": {
        "colab": {
          "base_uri": "https://localhost:8080/"
        },
        "id": "BTrIThBSHlVC",
        "outputId": "d9631e09-5008-4303-d227-776ab7f44790"
      },
      "outputs": [
        {
          "data": {
            "text/plain": [
              "array([[0., 1.],\n",
              "       [1., 0.],\n",
              "       [0., 1.],\n",
              "       [0., 1.]])"
            ]
          },
          "execution_count": 56,
          "metadata": {},
          "output_type": "execute_result"
        }
      ],
      "source": [
        "enc = preprocessing.OneHotEncoder(max_categories=2, sparse_output=False)\n",
        "enc = enc.fit(X)\n",
        "enc.transform([['dog'], ['cat'], ['rabbit'], ['snake']])"
      ]
    },
    {
      "cell_type": "code",
      "execution_count": 57,
      "metadata": {
        "colab": {
          "base_uri": "https://localhost:8080/"
        },
        "id": "i9snyrDOHn6n",
        "outputId": "69d7980c-aa3b-4a2f-957a-31742e4e336d"
      },
      "outputs": [
        {
          "data": {
            "text/plain": [
              "array([[0., 0., 1.],\n",
              "       [1., 0., 0.],\n",
              "       [0., 1., 0.],\n",
              "       [0., 0., 1.]])"
            ]
          },
          "execution_count": 57,
          "metadata": {},
          "output_type": "execute_result"
        }
      ],
      "source": [
        "enc = preprocessing.OneHotEncoder(min_frequency=4, max_categories=3, sparse_output=False)\n",
        "enc = enc.fit(X)\n",
        "enc.transform([['dog'], ['cat'], ['rabbit'], ['snake']])\n"
      ]
    },
    {
      "attachments": {},
      "cell_type": "markdown",
      "metadata": {},
      "source": [
        "max_categories 기준으로 기준 좌표에서 드물게 나타나는 범주가 같은 경우 lexicon 순서를 기반으로 처음것이 선택된다.\n",
        "\n",
        "다음 예제에서는 b, c가 드물게 나타나는 범주로 처리될 것이다."
      ]
    },
    {
      "cell_type": "code",
      "execution_count": 58,
      "metadata": {
        "colab": {
          "base_uri": "https://localhost:8080/"
        },
        "id": "7hZG9iI7Hpep",
        "outputId": "eb23b499-b243-4c55-f7a6-62421e372240"
      },
      "outputs": [
        {
          "data": {
            "text/plain": [
              "[array(['b', 'c'], dtype=object)]"
            ]
          },
          "execution_count": 58,
          "metadata": {},
          "output_type": "execute_result"
        }
      ],
      "source": [
        "X = np.asarray([[\"a\"] * 20 + [\"b\"] * 10 + [\"c\"] * 10 + [\"d\"] * 10], dtype=object).T\n",
        "enc = preprocessing.OneHotEncoder(max_categories=3).fit(X)\n",
        "enc.infrequent_categories_\n"
      ]
    },
    {
      "cell_type": "markdown",
      "metadata": {
        "id": "r5zF-g6VHrlP"
      },
      "source": [
        "## 5. 이산화"
      ]
    },
    {
      "attachments": {},
      "cell_type": "markdown",
      "metadata": {},
      "source": [
        "연속적인 형상을 이산값으로 분할하는 방법을 제공한다.\n",
        "\n",
        "이산화는 연속성의 데이터세트를 필요한 속성만 있는 데이터 세트로 변환할 수 있기 때문에 연속성이 있는 특정 데이터 세트는 이산화를 해주면 좋다.\n",
        "\n",
        "원핫인코드된 이산화된 특징들은 모델을 좀더 표현력있게 만들어준다.\n",
        "\n",
        "이산화로 전처리된 것은 선형모델에 비선형성을 도입할 수 있다."
      ]
    },
    {
      "cell_type": "code",
      "execution_count": 73,
      "metadata": {
        "id": "EYO7KaZZHq-L"
      },
      "outputs": [],
      "source": [
        "X = np.array([[ -3., 5., 15 ],\n",
        "              [  0., 6., 14 ],\n",
        "              [  6., 3., 11 ]])\n",
        "est = preprocessing.KBinsDiscretizer(n_bins=[3, 2, 2], encode='ordinal').fit(X)"
      ]
    },
    {
      "attachments": {},
      "cell_type": "markdown",
      "metadata": {},
      "source": [
        "기본적으로 출력은 원핫인코딩으로 희소 행렬로 인코딩한다.\n",
        "\n",
        "각  특성에 대해 fit 하는 동안 bin edge가 계산되며, 이와 함께 bin의 수가 결정되어 각 특성의 구간을 정의한다."
      ]
    },
    {
      "cell_type": "code",
      "execution_count": 60,
      "metadata": {
        "colab": {
          "base_uri": "https://localhost:8080/"
        },
        "id": "9M_WgI8mHzaH",
        "outputId": "c94248bf-3d29-4721-b9de-945412051991"
      },
      "outputs": [
        {
          "data": {
            "text/plain": [
              "array([[0., 1., 1.],\n",
              "       [1., 1., 1.],\n",
              "       [2., 0., 0.]])"
            ]
          },
          "execution_count": 60,
          "metadata": {},
          "output_type": "execute_result"
        }
      ],
      "source": [
        "est.transform(X)"
      ]
    },
    {
      "attachments": {},
      "cell_type": "markdown",
      "metadata": {},
      "source": [
        "이 결과 데이터 세트에는 파이프라인에서 추가로 사용할 수 있는 순서형 속성이 포함되어 있다.\n",
        "\n",
        "이산화는 연속 데이터에 대한 히스토그램을 구성하는 것과 유사하다.\n",
        "\n",
        "그러나 히스토그램은 특정 bin에 속하는 특징들을 계산하는 데 초점을 맞추고 이산화는 이러한 bin에 특징 값을 할당하는 데 초점을 맞춘다.\n",
        "\n",
        "'uniform'전략은 일정한 너비의 bin을 이용한다. \n",
        "\n",
        "'quantile'전략은  분위수 값을 사용하여 동일하게 채워진 bin 들을 갖는다.\n",
        "\n",
        "이산화 전략을 정의하는 호출기를 Function Transformer에 전달하여 사용자 정의 빈을 지정할 수 있다."
      ]
    },
    {
      "cell_type": "code",
      "execution_count": 74,
      "metadata": {
        "colab": {
          "base_uri": "https://localhost:8080/"
        },
        "id": "x3q8zUeCH2Bt",
        "outputId": "8e2e7cb3-bf2d-4d41-f05e-2f78245c3a61"
      },
      "outputs": [
        {
          "data": {
            "text/plain": [
              "['infant', 'kid', 'teen', 'adult', 'senior citizen']\n",
              "Categories (5, object): ['infant' < 'kid' < 'teen' < 'adult' < 'senior citizen']"
            ]
          },
          "execution_count": 74,
          "metadata": {},
          "output_type": "execute_result"
        }
      ],
      "source": [
        "import pandas as pd\n",
        "import numpy as np\n",
        "bins = [0, 1, 13, 20, 60, np.inf]\n",
        "labels = ['infant', 'kid', 'teen', 'adult', 'senior citizen']\n",
        "transformer = preprocessing.FunctionTransformer(\n",
        "    pd.cut, kw_args={'bins': bins, 'labels': labels, 'retbins': False}\n",
        ")\n",
        "X = np.array([0.2, 2, 15, 25, 97])\n",
        "transformer.fit_transform(X)"
      ]
    },
    {
      "attachments": {},
      "cell_type": "markdown",
      "metadata": {},
      "source": [
        "### 특성 이진화\n",
        "\n",
        "특성 이진화는 숫자 특성을 임계값으로 나누어 부울 값으로 변환하는 과정이다.\n",
        "\n",
        "이것은 수치형 데이터를 이진 데이터로 변환하는 과정(downstream probabilistic estimators)이 다변수 베르누이 분포를 따른다는 가정을 만들 때 유용하다.\n",
        "\n",
        "또한 텍스트 처리 커뮤니티에서 이진 특성 값을 사용하는 것이 일반적인데 아마도 확률적 추론을 단순화하기 위한 것일 것이다.\n",
        "\n",
        "Normalizer와 마찬가지로 유틸리티 클래스인 Binarizer는 파이프라인 초기단계에서 사용하는 것이 좋다.\n",
        "\n",
        "fit 메서드는 각 샘플을 다른 샘플과 독립적으로 처리하기 때문에 아무것도 하지 않는다."
      ]
    },
    {
      "cell_type": "code",
      "execution_count": 76,
      "metadata": {
        "colab": {
          "base_uri": "https://localhost:8080/"
        },
        "id": "DsInMJk5H3o-",
        "outputId": "a6a1affd-02e2-499e-c9e3-f18d45325b10"
      },
      "outputs": [
        {
          "data": {
            "text/html": [
              "<style>#sk-container-id-9 {color: black;background-color: white;}#sk-container-id-9 pre{padding: 0;}#sk-container-id-9 div.sk-toggleable {background-color: white;}#sk-container-id-9 label.sk-toggleable__label {cursor: pointer;display: block;width: 100%;margin-bottom: 0;padding: 0.3em;box-sizing: border-box;text-align: center;}#sk-container-id-9 label.sk-toggleable__label-arrow:before {content: \"▸\";float: left;margin-right: 0.25em;color: #696969;}#sk-container-id-9 label.sk-toggleable__label-arrow:hover:before {color: black;}#sk-container-id-9 div.sk-estimator:hover label.sk-toggleable__label-arrow:before {color: black;}#sk-container-id-9 div.sk-toggleable__content {max-height: 0;max-width: 0;overflow: hidden;text-align: left;background-color: #f0f8ff;}#sk-container-id-9 div.sk-toggleable__content pre {margin: 0.2em;color: black;border-radius: 0.25em;background-color: #f0f8ff;}#sk-container-id-9 input.sk-toggleable__control:checked~div.sk-toggleable__content {max-height: 200px;max-width: 100%;overflow: auto;}#sk-container-id-9 input.sk-toggleable__control:checked~label.sk-toggleable__label-arrow:before {content: \"▾\";}#sk-container-id-9 div.sk-estimator input.sk-toggleable__control:checked~label.sk-toggleable__label {background-color: #d4ebff;}#sk-container-id-9 div.sk-label input.sk-toggleable__control:checked~label.sk-toggleable__label {background-color: #d4ebff;}#sk-container-id-9 input.sk-hidden--visually {border: 0;clip: rect(1px 1px 1px 1px);clip: rect(1px, 1px, 1px, 1px);height: 1px;margin: -1px;overflow: hidden;padding: 0;position: absolute;width: 1px;}#sk-container-id-9 div.sk-estimator {font-family: monospace;background-color: #f0f8ff;border: 1px dotted black;border-radius: 0.25em;box-sizing: border-box;margin-bottom: 0.5em;}#sk-container-id-9 div.sk-estimator:hover {background-color: #d4ebff;}#sk-container-id-9 div.sk-parallel-item::after {content: \"\";width: 100%;border-bottom: 1px solid gray;flex-grow: 1;}#sk-container-id-9 div.sk-label:hover label.sk-toggleable__label {background-color: #d4ebff;}#sk-container-id-9 div.sk-serial::before {content: \"\";position: absolute;border-left: 1px solid gray;box-sizing: border-box;top: 0;bottom: 0;left: 50%;z-index: 0;}#sk-container-id-9 div.sk-serial {display: flex;flex-direction: column;align-items: center;background-color: white;padding-right: 0.2em;padding-left: 0.2em;position: relative;}#sk-container-id-9 div.sk-item {position: relative;z-index: 1;}#sk-container-id-9 div.sk-parallel {display: flex;align-items: stretch;justify-content: center;background-color: white;position: relative;}#sk-container-id-9 div.sk-item::before, #sk-container-id-9 div.sk-parallel-item::before {content: \"\";position: absolute;border-left: 1px solid gray;box-sizing: border-box;top: 0;bottom: 0;left: 50%;z-index: -1;}#sk-container-id-9 div.sk-parallel-item {display: flex;flex-direction: column;z-index: 1;position: relative;background-color: white;}#sk-container-id-9 div.sk-parallel-item:first-child::after {align-self: flex-end;width: 50%;}#sk-container-id-9 div.sk-parallel-item:last-child::after {align-self: flex-start;width: 50%;}#sk-container-id-9 div.sk-parallel-item:only-child::after {width: 0;}#sk-container-id-9 div.sk-dashed-wrapped {border: 1px dashed gray;margin: 0 0.4em 0.5em 0.4em;box-sizing: border-box;padding-bottom: 0.4em;background-color: white;}#sk-container-id-9 div.sk-label label {font-family: monospace;font-weight: bold;display: inline-block;line-height: 1.2em;}#sk-container-id-9 div.sk-label-container {text-align: center;}#sk-container-id-9 div.sk-container {/* jupyter's `normalize.less` sets `[hidden] { display: none; }` but bootstrap.min.css set `[hidden] { display: none !important; }` so we also need the `!important` here to be able to override the default hidden behavior on the sphinx rendered scikit-learn.org. See: https://github.com/scikit-learn/scikit-learn/issues/21755 */display: inline-block !important;position: relative;}#sk-container-id-9 div.sk-text-repr-fallback {display: none;}</style><div id=\"sk-container-id-9\" class=\"sk-top-container\"><div class=\"sk-text-repr-fallback\"><pre>Binarizer()</pre><b>In a Jupyter environment, please rerun this cell to show the HTML representation or trust the notebook. <br />On GitHub, the HTML representation is unable to render, please try loading this page with nbviewer.org.</b></div><div class=\"sk-container\" hidden><div class=\"sk-item\"><div class=\"sk-estimator sk-toggleable\"><input class=\"sk-toggleable__control sk-hidden--visually\" id=\"sk-estimator-id-11\" type=\"checkbox\" checked><label for=\"sk-estimator-id-11\" class=\"sk-toggleable__label sk-toggleable__label-arrow\">Binarizer</label><div class=\"sk-toggleable__content\"><pre>Binarizer()</pre></div></div></div></div></div>"
            ],
            "text/plain": [
              "Binarizer()"
            ]
          },
          "execution_count": 76,
          "metadata": {},
          "output_type": "execute_result"
        }
      ],
      "source": [
        "X = [[ 1., -1.,  2.],\n",
        "     [ 2.,  0.,  0.],\n",
        "     [ 0.,  1., -1.]]\n",
        "\n",
        "binarizer = preprocessing.Binarizer().fit(X)  # fit does nothing\n",
        "binarizer"
      ]
    },
    {
      "cell_type": "code",
      "execution_count": 77,
      "metadata": {
        "colab": {
          "base_uri": "https://localhost:8080/"
        },
        "id": "2EWJPPuyH6My",
        "outputId": "20fd6686-fb9e-44c5-92e9-5c9c8f733c44"
      },
      "outputs": [
        {
          "data": {
            "text/plain": [
              "array([[1., 0., 1.],\n",
              "       [1., 0., 0.],\n",
              "       [0., 1., 0.]])"
            ]
          },
          "execution_count": 77,
          "metadata": {},
          "output_type": "execute_result"
        }
      ],
      "source": [
        "binarizer.transform(X)"
      ]
    },
    {
      "cell_type": "code",
      "execution_count": 78,
      "metadata": {
        "colab": {
          "base_uri": "https://localhost:8080/"
        },
        "id": "hZC_CMbmH7ph",
        "outputId": "09fda33c-2e66-4f3f-a0e7-7a18f6302026"
      },
      "outputs": [
        {
          "data": {
            "text/plain": [
              "array([[0., 0., 1.],\n",
              "       [1., 0., 0.],\n",
              "       [0., 0., 0.]])"
            ]
          },
          "execution_count": 78,
          "metadata": {},
          "output_type": "execute_result"
        }
      ],
      "source": [
        "binarizer = preprocessing.Binarizer(threshold=1.1)\n",
        "binarizer.transform(X)"
      ]
    },
    {
      "attachments": {},
      "cell_type": "markdown",
      "metadata": {},
      "source": [
        "Normalizer 클래스에 대해서는 transformer API가 필요하지 않을 때 사용할 수 있는 동반 함수 binarize가 제공된다.\n",
        "\n",
        "희소 입력의 경우 데이터 압축 희소 행렬 표현으로 변환된다."
      ]
    },
    {
      "cell_type": "markdown",
      "metadata": {
        "id": "CQZioWBZH-8K"
      },
      "source": [
        "## 6.결측값 대치"
      ]
    },
    {
      "attachments": {},
      "cell_type": "markdown",
      "metadata": {},
      "source": [
        "많은 실제 데이터셋에는 누락된 값이 포함된다.\n",
        "\n",
        "이러한 값들은 공백, Nan 또는 다른 placeholder로 인코딩된다.\n",
        "\n",
        "그러나 scikit learn은 이런 누락된 데이터 셋과 호환되지 않는다.\n",
        "\n",
        "누락된 값을 포함하는 전체 행,열을 삭제하는 방법을 사용할 수도 있고 누락된 값을 대체하는 방법도 있다."
      ]
    },
    {
      "cell_type": "markdown",
      "metadata": {
        "id": "ivneo-HCIDWd"
      },
      "source": [
        "## 7. 다항식 특성 생성"
      ]
    },
    {
      "attachments": {},
      "cell_type": "markdown",
      "metadata": {},
      "source": [
        "입력 데이터의 비선형 특성을 고려하여 모델의 목잡성을 추가하는 것이 유용한 경우가 많다.\n",
        "\n",
        "우리는 두가지 다항식을 기반으로 한 두가지 가능성을 보여준다.(1. 순수 다항식, 2. 분할다항식)"
      ]
    },
    {
      "cell_type": "code",
      "execution_count": 80,
      "metadata": {
        "colab": {
          "base_uri": "https://localhost:8080/"
        },
        "id": "l1WSY_ZcH9O2",
        "outputId": "38975f8d-bea7-4d6d-e4af-23964995be5e"
      },
      "outputs": [
        {
          "data": {
            "text/plain": [
              "array([[0, 1],\n",
              "       [2, 3],\n",
              "       [4, 5]])"
            ]
          },
          "execution_count": 80,
          "metadata": {},
          "output_type": "execute_result"
        }
      ],
      "source": [
        "import numpy as np\n",
        "from sklearn.preprocessing import PolynomialFeatures\n",
        "X = np.arange(6).reshape(3, 2)\n",
        "X"
      ]
    },
    {
      "cell_type": "code",
      "execution_count": 81,
      "metadata": {
        "colab": {
          "base_uri": "https://localhost:8080/"
        },
        "id": "XrELSYmqINs6",
        "outputId": "9d04ed60-dfa0-40f9-c115-f94ac1474de1"
      },
      "outputs": [
        {
          "data": {
            "text/plain": [
              "array([[ 1.,  0.,  1.,  0.,  0.,  1.],\n",
              "       [ 1.,  2.,  3.,  4.,  6.,  9.],\n",
              "       [ 1.,  4.,  5., 16., 20., 25.]])"
            ]
          },
          "execution_count": 81,
          "metadata": {},
          "output_type": "execute_result"
        }
      ],
      "source": [
        "poly = PolynomialFeatures(2)\n",
        "poly.fit_transform(X)"
      ]
    },
    {
      "cell_type": "code",
      "execution_count": 82,
      "metadata": {
        "colab": {
          "base_uri": "https://localhost:8080/"
        },
        "id": "pNSG4yXnIOmB",
        "outputId": "d8235c89-2411-43db-9623-e163bc475af3"
      },
      "outputs": [
        {
          "data": {
            "text/plain": [
              "array([[0, 1, 2],\n",
              "       [3, 4, 5],\n",
              "       [6, 7, 8]])"
            ]
          },
          "execution_count": 82,
          "metadata": {},
          "output_type": "execute_result"
        }
      ],
      "source": [
        "X = np.arange(9).reshape(3, 3)\n",
        "X"
      ]
    },
    {
      "cell_type": "code",
      "execution_count": 83,
      "metadata": {
        "colab": {
          "base_uri": "https://localhost:8080/"
        },
        "id": "0TF-E9V-IQD2",
        "outputId": "0a2559b3-e7d1-4edc-c699-2b8c56c15c4b"
      },
      "outputs": [
        {
          "data": {
            "text/plain": [
              "array([[  1.,   0.,   1.,   2.,   0.,   0.,   2.,   0.],\n",
              "       [  1.,   3.,   4.,   5.,  12.,  15.,  20.,  60.],\n",
              "       [  1.,   6.,   7.,   8.,  42.,  48.,  56., 336.]])"
            ]
          },
          "execution_count": 83,
          "metadata": {},
          "output_type": "execute_result"
        }
      ],
      "source": [
        "poly = PolynomialFeatures(degree=3, interaction_only=True)\n",
        "poly.fit_transform(X)"
      ]
    },
    {
      "attachments": {},
      "cell_type": "markdown",
      "metadata": {},
      "source": [
        "비선형 항을 추가하는 다른 방법은 Spline Transformer를 사용하는 것이다.\n",
        "\n",
        "B-스플라인은 고정된 낮은 차수(3)을 유지하고 knot의 수를 절약적으로 조정하는 경우 매우 유연하고 견고하다."
      ]
    },
    {
      "cell_type": "code",
      "execution_count": 84,
      "metadata": {
        "colab": {
          "base_uri": "https://localhost:8080/"
        },
        "id": "R7UenRf5IRCw",
        "outputId": "3c9b2703-edee-4f44-fafd-c5335b8d8361"
      },
      "outputs": [
        {
          "data": {
            "text/plain": [
              "array([[0],\n",
              "       [1],\n",
              "       [2],\n",
              "       [3],\n",
              "       [4]])"
            ]
          },
          "execution_count": 84,
          "metadata": {},
          "output_type": "execute_result"
        }
      ],
      "source": [
        "import numpy as np\n",
        "from sklearn.preprocessing import SplineTransformer\n",
        "X = np.arange(5).reshape(5, 1)\n",
        "X"
      ]
    },
    {
      "cell_type": "code",
      "execution_count": 85,
      "metadata": {
        "colab": {
          "base_uri": "https://localhost:8080/"
        },
        "id": "ncEvSwNRIS0x",
        "outputId": "b26f1c63-cc62-457b-e108-b76de9c70db3"
      },
      "outputs": [
        {
          "data": {
            "text/plain": [
              "array([[0.5  , 0.5  , 0.   , 0.   ],\n",
              "       [0.125, 0.75 , 0.125, 0.   ],\n",
              "       [0.   , 0.5  , 0.5  , 0.   ],\n",
              "       [0.   , 0.125, 0.75 , 0.125],\n",
              "       [0.   , 0.   , 0.5  , 0.5  ]])"
            ]
          },
          "execution_count": 85,
          "metadata": {},
          "output_type": "execute_result"
        }
      ],
      "source": [
        "spline = SplineTransformer(degree=2, n_knots=3)\n",
        "spline.fit_transform(X)"
      ]
    },
    {
      "cell_type": "markdown",
      "metadata": {
        "id": "TUywH24LIU5H"
      },
      "source": [
        "## 8.사용자 지정 변환기"
      ]
    },
    {
      "attachments": {},
      "cell_type": "markdown",
      "metadata": {},
      "source": [
        "기존의 파이썬 함수를 변환하여 데이터 정리 또는 처리를 지원하는 변환기로 만들고 싶을 때가 종종 있다.\n",
        "\n",
        "Function Transformer를 사용하여 임의의 함수에서 변환기를 구현할 수 있다."
      ]
    },
    {
      "cell_type": "code",
      "execution_count": 87,
      "metadata": {
        "colab": {
          "base_uri": "https://localhost:8080/"
        },
        "id": "l14WOnlbIT49",
        "outputId": "30c7edab-a248-4867-90ae-a00e1d41031a"
      },
      "outputs": [
        {
          "data": {
            "text/plain": [
              "array([[0.        , 0.69314718],\n",
              "       [1.09861229, 1.38629436]])"
            ]
          },
          "execution_count": 87,
          "metadata": {},
          "output_type": "execute_result"
        }
      ],
      "source": [
        "import numpy as np\n",
        "from sklearn.preprocessing import FunctionTransformer\n",
        "transformer = FunctionTransformer(np.log1p, validate=True)\n",
        "X = np.array([[0, 1], [2, 3]])\n",
        "# Since FunctionTransformer is no-op during fit, we can call transform directly\n",
        "transformer.transform(X)"
      ]
    },
    {
      "cell_type": "code",
      "execution_count": 88,
      "metadata": {
        "id": "RuLwdo5WIZoR"
      },
      "outputs": [],
      "source": [
        "import warnings\n",
        "warnings.filterwarnings(\"error\", message=\".*check_inverse*.\",\n",
        "                        category=UserWarning, append=False)\n"
      ]
    },
    {
      "attachments": {},
      "cell_type": "markdown",
      "metadata": {},
      "source": [
        "# 대략적인 정리"
      ]
    }
  ],
  "metadata": {
    "colab": {
      "provenance": []
    },
    "kernelspec": {
      "display_name": "Python 3",
      "name": "python3"
    },
    "language_info": {
      "codemirror_mode": {
        "name": "ipython",
        "version": 3
      },
      "file_extension": ".py",
      "mimetype": "text/x-python",
      "name": "python",
      "nbconvert_exporter": "python",
      "pygments_lexer": "ipython3",
      "version": "3.10.10"
    }
  },
  "nbformat": 4,
  "nbformat_minor": 0
}
